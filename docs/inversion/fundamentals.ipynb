{
 "cells": [
  {
   "cell_type": "markdown",
   "id": "02833ef3",
   "metadata": {},
   "source": [
    "# Inversion Fundamentals\n",
    "\n",
    "This section provides the mathematical background to understand the inversion algorithm. We are going to use standard terminalogy and nomenclature used in the literature as a framework. Even though we are going to use mathematical expressions, it is only a vehicle to help in understanding the influence of different parameters controlling the outcome of an inversion."
   ]
  },
  {
   "cell_type": "markdown",
   "id": "e01d2fb6",
   "metadata": {},
   "source": [
    "## Forward simulation\n",
    "\n",
    "Before we start tackling the inverse problem, it is important to talk about the `forward` simulation. In other words, how does a computer generate geophysical data given a model and topography. We can generally write this in a simple form:\n",
    "\n",
    "$$\n",
    "\\mathbf{d} = \\mathbf{F}(\\mathbf{m})\n",
    "$$\n",
    "\n",
    "where\n",
    "- $\\mathbf{d}$ is the geophysical data (gravity, magnetic, voltages, etc.)\n",
    "- $\\mathbf{F}$ is some computer operation handling the physics\n",
    "- $\\mathbf{m}$ is a discrete model of physical property (density, susceptibility, conductivity, etc.)\n",
    "\n",
    "Note that the forward simulation $\\mathbf{F}(\\mathbf{m})$ varies in complexity depending on the type of geophysical survey: from a simple dense arrays for potential fields:\n",
    "\n",
    "- [Gravity](gravity.ipynb)\n",
    "- [Magnetics](magnetic.ipynb)\n",
    "\n",
    "to ellaborate partial differential equations for EM problems:\n",
    "\n",
    "- [Direct Current](dc_ip.ipynb)\n",
    "- [Magnetotellurics](mt.ipynb)\n",
    "- [Frequency-Domain EM](frequency_em.ipynb)\n",
    "- [Time-Domain EM](time_em.ipynb)\n",
    "\n",
    "All what matters at this point is that `SimPEG` knows how to compute data given a model $\\mathbf{m}$.\n",
    "\n",
    "![forward_mag_susc](./images/forward_mag_susc.png)\n",
    "\n",
    "Figure showing simulated magnetic TMI data over the Flin Flon model (20 m resolution)."
   ]
  },
  {
   "cell_type": "markdown",
   "id": "319ac95d",
   "metadata": {},
   "source": [
    "### Example\n",
    "\n",
    "Let's look at a simple 2 parameter problem to illustrate this concept:\n",
    "\n",
    "$$\n",
    "1*x + \\:2*y = d \\;.\n",
    "$$\n",
    "\n",
    "The same expression can be written as linear operation of matrix $\\mathbf{F}$ multiplying a `model` $\\mathbf{m}$ such that\n",
    "\n",
    "$$\n",
    "\\mathbf{F} \\mathbf{m} = \\mathbf{d}\n",
    "$$\n",
    "\n",
    "or\n",
    "\n",
    "$$\n",
    "\\large[\\begin{array}{ccc}\n",
    "1 & 2\n",
    "\\end{array}\\large]\\left[\\begin{array}{ccc}\n",
    "x \\\\ y\n",
    "\\end{array}\\right] = d\\;.\n",
    "$$"
   ]
  },
  {
   "cell_type": "code",
   "execution_count": null,
   "id": "1d74e4ae",
   "metadata": {},
   "outputs": [],
   "source": [
    "import numpy as np"
   ]
  },
  {
   "cell_type": "code",
   "execution_count": null,
   "id": "5c9df792",
   "metadata": {},
   "outputs": [],
   "source": [
    "F = np.c_[1, 2]"
   ]
  },
  {
   "cell_type": "markdown",
   "id": "cbbeb497",
   "metadata": {},
   "source": [
    "For given values for $\\mathbf{m}$, we have a way to compute data $\\mathbf{d}$. For example, for\n",
    "$x = 0.5$ and $y=0.25$"
   ]
  },
  {
   "cell_type": "code",
   "execution_count": null,
   "id": "aea2444f",
   "metadata": {},
   "outputs": [],
   "source": [
    "np.dot(F, [0.5, 0.25])"
   ]
  },
  {
   "cell_type": "markdown",
   "id": "1d679e3b",
   "metadata": {},
   "source": [
    "(inverse_problem)=\n",
    "\n",
    "\n",
    "## Inverse problem\n",
    "\n",
    "In a mineral exploration context, we can collect data over the Earth but generally know little about the source of the signal (geology and physical properties). This is where the inversion process is required. In an ideal world we could simply perform the inverse of our forward simulation\n",
    "\n",
    "$$\n",
    "\\mathbf{m} = \\mathbf{F}^{-1} \\mathbf{d}\n",
    "$$\n",
    "\n",
    "but this operation is in practice never possible. First, there are too many unknowns compared to the amount of data, so $\\mathbf{F}^{-1}$ does not exist. Secondly, the data are generally noisy so that we would have:\n",
    "\n",
    "$$\n",
    "\\mathbf{m} = \\mathbf{F}^{-1} (\\mathbf{d + e})\n",
    "$$\n",
    "\n",
    "This is referred to as an ill-posed problem. A common way to still find a (good) answer is to formulate inversion as a weighted least-squares optimization problem of the form:\n",
    "\n",
    "$$\n",
    "\\underset{\\mathbf{m}}{\\text{min}}\\; \\phi(m) = \\; \\phi_d + \\beta \\; \\phi_m\n",
    "$$\n",
    "\n",
    "such that we have a global function $\\phi(m)$ made up of two competing objectives:\n",
    "\n",
    "- $\\phi_d$ is the [data misfit](data_misfit.ipynb) function that measures how well some model ($\\mathbf{m}$) can **fit the data**\n",
    "\n",
    "$$\n",
    "\\phi_d =\\sum_{i=1}^{N}\\left(w_i (d_i^{pred} - {d}_i^{obs})\\right)^2\n",
    "$$\n",
    "\n",
    "In linear form this can be written as\n",
    "\n",
    "$$\n",
    "\\phi_d =(\\mathbb{F}(\\mathbf{m}) - \\mathbf{d}^{obs})^T \\mathbf{W}_d^T \\mathbf{W}_d (\\mathbb{F}(\\mathbf{m}) - \\mathbf{d}^{obs})\\;,\n",
    "$$\n",
    "\n",
    "where the data weights $\\mathbf{W}_d$ are diagonal matrices with estimated data uncertainties. More details can be found in the [data misfit](data_misfit.ipynb) module.\n",
    "\n",
    "\n",
    "- $\\phi_m$ is a [regularization](regularization.ipynb) function measuring how well we **fit geological assumptions**\n",
    "\n",
    "$$\n",
    "\\phi_m =\\sum_{i=1}^{N}\\left(w_i f(m_i - {m}_i^{ref})\\right)^2\n",
    "$$\n",
    "\n",
    "In linear form this can be written as\n",
    "\n",
    "\n",
    "$$\n",
    "\\phi_m = (\\mathbf{m} - \\mathbf{m}^{ref})^T \\mathbf{R}^T \\mathbf{R}(\\mathbf{m} - \\mathbf{m}^{ref})\n",
    "$$\n",
    "\n",
    "where the operator $\\mathbf{R}$ describe all functions used to guide the solution to a reference model $\\mathbf{m}_{ref}$. More details can be found in the [regularization](regularization.ipynb) module. A solution for the minimum of the objective function can be computed by taking its partial derivatives with respect to the model and setting it to zero\n",
    "\n",
    "$$\n",
    "\\frac{\\delta \\phi(m)}{\\delta m} = \\frac{\\delta \\phi_d}{\\delta m} + \\beta \\frac{\\delta \\phi_m}{\\delta m} = 0\n",
    "$$\n",
    "\n",
    "The two functions are competing for what the model $\\mathbf{m}$ should look like - either fit the data ($\\phi_d$) at all cost, or stay close to some geological assumptions ($\\phi_m$). Finally we have our trade-off parameter $\\beta$, that determines the relative importance between these two competing objectives. More details about how the optimal $\\beta$ is determined can be found in the [optimization](optimization.ipynb) section.\n",
    "\n"
   ]
  },
  {
   "cell_type": "markdown",
   "id": "11685f70",
   "metadata": {
    "lines_to_next_cell": 2
   },
   "source": [
    "### Example\n",
    "\n",
    "We can reuse the two-parameter problem above to illustrate the inverse problem. We are going to ignore the issue of noise for now and simply look at the under-determined problem\n",
    "$$\n",
    "\\large[\\begin{array}{ccc}\n",
    "1 & 2\n",
    "\\end{array}\\large]\\left[\\begin{array}{ccc}\n",
    "x \\\\ y\n",
    "\\end{array}\\right] = 1\\;.\n",
    "$$\n",
    "\n",
    "where we are giving data ($d=1$) and a linear operator $\\mathbf{F}=[1 \\; 2]$."
   ]
  },
  {
   "cell_type": "markdown",
   "id": "674b375d",
   "metadata": {},
   "source": [
    "Since $\\mathbf{F}$ does not have an inverse, we can instead solve the least-norm problem\n",
    "\n",
    "$$\n",
    "\\|\\mathbf{F} \\mathbf{m} -1 \\|^2_2\n",
    "$$\n",
    "\n",
    "which can be written as\n",
    "\n",
    "$$\n",
    "\\phi_d =(\\mathbf{F} \\mathbf{m} - 1)^T (\\mathbf{F} \\mathbf{m} - 1)\\;.\n",
    "$$\n",
    "\n",
    "Taking the derivative of $\\phi_d$ with respect to the model $\\mathbf{m}$ and setting it to zero yields\n",
    "\n",
    "$$\n",
    "\\mathbf{m} =(\\mathbf{F}^T \\mathbf{F})^{-1}(\\mathbf{F}^T 1)\\;.\n",
    "$$\n",
    "\n",
    "but even here $(\\mathbf{F}^T \\mathbf{F})^{-1}$ is singular and cannot be inverted directly."
   ]
  },
  {
   "cell_type": "code",
   "execution_count": null,
   "id": "b2622335",
   "metadata": {},
   "outputs": [],
   "source": [
    "m = np.linalg.solve(np.dot(F.T, F) + np.eye(2), F.T * np.r_[1])"
   ]
  },
  {
   "cell_type": "markdown",
   "id": "b7cfa4fa",
   "metadata": {},
   "source": [
    "<p style=\"page-break-after:always;\"></p>"
   ]
  }
 ],
 "metadata": {
  "kernelspec": {
   "display_name": "Python 3 (ipykernel)",
   "language": "python",
   "name": "python3"
  }
 },
 "nbformat": 4,
 "nbformat_minor": 5
}
