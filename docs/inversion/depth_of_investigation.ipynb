{
 "cells": [
  {
   "cell_type": "markdown",
   "id": "c6c8ad14-6e0f-405b-8356-3b9b6ab049f8",
   "metadata": {},
   "source": [
    "# Depth of Investigation\n",
    "\n",
    "![masked_model](./images/masked_model.png)\n",
    "\n",
    "One way to measure the depth of investigation of a sensitivity based inversion algorithm is to filter the model cells as a percentage (or percentile) of the sensitivity matrix.  SimPEG inversion routines calculate sensitivities at each iteration.  A mask can be calculated at each iteration by asking what cells in the inversion model are associated with a sensitivity that exceeds some threshold.  There are a number of ways to calculate a threshold including percentage, log percentage, and percentile.  In each calculation, the resulting mask should broadly look like a heterogeneous depth cutoff since the data are naturally less sensitive to deeper cells in all geophysical methods. In the following, we discuss the algorithm and implementation of the sensitivity cutoff strategy."
   ]
  },
  {
   "cell_type": "markdown",
   "id": "c13ffcec-8d95-4ee9-876f-9aa92e2c534a",
   "metadata": {},
   "source": [
    "## Sensitivities\n",
    "\n",
    "The sensitivity matrix is calculated as part of the optimization problem solved by SimPEG while inverting geophysical data.  The sensitivity matrix represents the degree to which each predicted datum changes with respect to a perturbation in each model cell.  It is given in matrix form by\n",
    "\n",
    "$$\n",
    "\\mathbf{J} = \\frac{\\mathbf\\partial{F}(\\mathbf{m})}{\\partial{\\mathbf{m}}}\n",
    "$$\n",
    "\n",
    "where $\\mathbf{m}$ is the model vector, and $\\mathbf{F}(\\mathbf{m})$ represents the forward modelling operation as a function of the model.  The dimensions of the sensitivity are $n\\times m$ where $n$ is the number of data and $m$ are the number of mesh cells.\n",
    "\n",
    "The depth of investigation mask is a property of the cells of the mesh only so the rows of the matrix (data) are sum-square normalized as follows.\n",
    "\n",
    "$$\n",
    "\\mathbf{J} = \\Bigg|\\frac{\\mathbf\\partial{F}_{n}(\\mathbf{m})}{\\partial{\\mathbf{m}}}\\Bigg|_{n=1:N}^{2}\n",
    "$$\n",
    "\n",
    "The resulting vector can then be thought of as the degree to which the aggregate data changes due to a small perturbation in each model cell.  The depth of investigation mask is then computed by thresholding those sensitivities"
   ]
  },
  {
   "cell_type": "markdown",
   "id": "d8bb85c5-5e63-4617-ab6b-a7b6536c1d2c",
   "metadata": {},
   "source": [
    "## Thresholding\n",
    "\n",
    "The depth of investigation can be estimated by assigning a threshold on the sum-squared sensitivity vector.  This can be done as a percentile, percentage, or log-percentage.  In the percentile method, the mask is formed by eliminating all cells in which the sensitivity falls below the lowest $n$% of the number of data where $n$ is the chosen cutoff.  In the percent method the data are transformed into a percentage of the largest value\n",
    "\n",
    "$$\n",
    "d_{scaled} = \\frac{100 \\cdot d}{max(d)}\n",
    "$$\n",
    "\n",
    "and the mask is formed by eliminating all cells in which the sensitivity falls below the lowest $n$% of the data values where $n$ is the chosen cutoff.  Finally, the log-percent mask transforms the data into log-space before carrying out the percentage thresholding described above."
   ]
  },
  {
   "cell_type": "markdown",
   "id": "83b4ae8f-5509-40b1-98c2-39acefba438c",
   "metadata": {},
   "source": [
    "## Usage\n",
    "\n",
    "The depth of investigation methods based on sensitivity cutoffs described above are exposed to Geoscience ANALYST Pro Geophysics users through a ui.json interface.  In order to save the sensitivities during a SimPEG inversion, the 'Save sensitivities' option must be selected from the 'Optional parameters' tab of the SimPEG inversion ui.json window.\n",
    "\n",
    "![save_sensitivities](./images/save_sensitivities.png)\n",
    "\n",
    "This will result in a new model generated and saved into the computational mesh at each iteration.\n",
    "\n",
    "![sensitivity_models](./images/sensitivity_models.png)\n",
    "\n",
    "The ui.json interface allows the user to select a mesh from the **simpeg-drivers** result and any of the generated sensitivity models, a cutoff threshold, method, and optional name for the output.\n",
    "\n",
    "![interface](./images/uijson.png)\n",
    "\n",
    "It will create a sensitivity cutoff mask saved on the mesh\n",
    "\n",
    "![mask](./images/sensitivity_mask.png)\n",
    "\n",
    "which can then be applied to any of the iterations to show only the cells that exceeded the sensitivity threshold.\n",
    "\n",
    "![apply_mask](./images/apply_mask.png)\n",
    "\n",
    "![masked_model](./images/masked_model.png)"
   ]
  }
 ],
 "metadata": {
  "kernelspec": {
   "display_name": "Python 3 (ipykernel)",
   "language": "python",
   "name": "python3"
  },
  "language_info": {
   "codemirror_mode": {
    "name": "ipython",
    "version": 3
   },
   "file_extension": ".py",
   "mimetype": "text/x-python",
   "name": "python",
   "nbconvert_exporter": "python",
   "pygments_lexer": "ipython3",
   "version": "3.10.16"
  }
 },
 "nbformat": 4,
 "nbformat_minor": 5
}
