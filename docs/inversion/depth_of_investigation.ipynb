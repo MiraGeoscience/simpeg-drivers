{
 "cells": [
  {
   "cell_type": "markdown",
   "id": "c6c8ad14-6e0f-405b-8356-3b9b6ab049f8",
   "metadata": {},
   "source": [
    "# Depth of Investigation\n",
    "\n",
    "In geophysics, \"depth of investigation\" refers to the maximum depth below the surface from which a geophysical survey can reliably measure. It depends on factors like the survey design and physical properties of the subsurface material. Several strategies have been proposed to assess uncertainties in models recovered from inversion. Nabighian & Macnae (1989) used a skin depth approach for electromagnetic surveys, assuming a background halfspace resistivity. Li&O (1999) implemented a cut-off value based on two inverted models obtained with slightly different assumptions. Christiansen & Auken (2012) proposed a mask based on the sum-square of sensitivities to estimate a volume of low confidence. In the following, we discuss the algorithm and implementation of the sensitivity cutoff strategy."
   ]
  },
  {
   "cell_type": "markdown",
   "id": "c13ffcec-8d95-4ee9-876f-9aa92e2c534a",
   "metadata": {},
   "source": [
    "## Sensitivities\n",
    "\n",
    "The sensitivity matrix is calculated as part of the optimization problem solved by SimPEG while inverting geophysical data.  The sensitivity matrix represents the degree to which each predicted datum changes with respect to a perturbation in each model cell.  It is given in matrix form by\n",
    "\n",
    "$$\n",
    "\\mathbf{J} = \\frac{\\mathbf\\partial{F}(\\mathbf{m})}{\\partial{\\mathbf{m}}}\n",
    "$$\n",
    "\n",
    "where $\\mathbf{m}$ is the model vector, and $F(\\mathbf{m})$ represents the forward modelling operation as a function of the model.  The sensitivity matrix $\\mathbf{J}$ is a dense array with dimensions $N\\times M$, where $N$ is the number of data and $M$ are the number of mesh cells.\n",
    "\n",
    "The depth of investigation mask is a property of the cells of the mesh only so the rows of the sensitivity matrix (data) are sum-square normalized as follows.\n",
    "\n",
    "$$\n",
    "\\mathbf{J}_{norm} = \\left[\\sum_{n=1}^{N}\\left(\\frac{\\mathbf{J}_{n:}}{w_n}\\right)^{2}\\right]^{(1/2)}\n",
    "$$\n",
    "\n",
    "where $w_n$ are the data uncertainties associated with the $n^{th}$ datum.\n",
    "\n",
    "The resulting vector $J_{norm}$ can then be thought of as the degree to which the aggregate data changes due to a small perturbation in each model cell.  The depth of investigation mask is then computed by thresholding those sensitivities"
   ]
  },
  {
   "cell_type": "markdown",
   "id": "d8bb85c5-5e63-4617-ab6b-a7b6536c1d2c",
   "metadata": {},
   "source": [
    "## Thresholding\n",
    "\n",
    "The depth of investigation can be estimated by assigning a threshold on the sum-squared sensitivity vector.  This can be done as a percentile, percentage, or log-percentage.  In the percentile method, the mask is formed by eliminating all cells in which the sensitivity falls below the lowest $n$% of the number of data where $n$ is the chosen cutoff.  In the percent method the data are transformed into a percentage of the largest value\n",
    "\n",
    "$$\n",
    "d_{scaled} = \\frac{100 \\cdot d}{max(d)}\n",
    "$$\n",
    "\n",
    "and the mask is formed by eliminating all cells in which the sensitivity falls below the lowest $n$% of the data values where $n$ is the chosen cutoff.  Finally, the log-percent mask transforms the data into log-space before carrying out the percentage thresholding described above."
   ]
  },
  {
   "cell_type": "markdown",
   "id": "83b4ae8f-5509-40b1-98c2-39acefba438c",
   "metadata": {},
   "source": [
    "## Usage\n",
    "\n",
    "The depth of investigation methods based on sensitivity cutoffs described above are exposed to Geoscience ANALYST Pro Geophysics users through a ui.json interface.  In order to save the sensitivities during a SimPEG inversion, the 'Save sensitivities' option must be selected from the 'Optional parameters' tab of the SimPEG inversion ui.json window.\n",
    "\n",
    "![save_sensitivities](./images/save_sensitivities.png)\n",
    "\n",
    "This will result in a new model generated and saved into the computational mesh at each iteration.\n",
    "\n",
    "![sensitivity_models](./images/sensitivity_models.png)\n",
    "\n",
    "The ui.json interface allows the user to select a mesh from the **simpeg-drivers** result and any of the generated sensitivity models, a cutoff threshold, method, and optional name for the output.\n",
    "\n",
    "![interface](./images/uijson.png)\n",
    "\n",
    "The cutoff methods are selectable in the dropdown\n",
    "\n",
    "![cutoff_options](./images/cutoff_options.png)\n",
    "\n",
    "Whatever the options, the application will create a sensitivity cutoff mask saved on the mesh\n",
    "\n",
    "![mask](./images/sensitivity_mask.png)\n",
    "\n",
    "which can then be applied to any of the iterations to show only the cells that exceeded the sensitivity threshold.\n",
    "\n",
    "![apply_mask](./images/apply_mask.png)\n",
    "\n",
    "![masked_model](./images/masked_model.png)"
   ]
  },
  {
   "cell_type": "code",
   "execution_count": null,
   "id": "1079da0d-4ea2-4f00-b957-92199dd39cdb",
   "metadata": {},
   "outputs": [],
   "source": []
  },
  {
   "cell_type": "code",
   "execution_count": null,
   "id": "920f0637-4028-40c7-b2c6-5976f5e90afd",
   "metadata": {},
   "outputs": [],
   "source": []
  }
 ],
 "metadata": {
  "kernelspec": {
   "display_name": "Python 3 (ipykernel)",
   "language": "python",
   "name": "python3"
  },
  "language_info": {
   "codemirror_mode": {
    "name": "ipython",
    "version": 3
   },
   "file_extension": ".py",
   "mimetype": "text/x-python",
   "name": "python",
   "nbconvert_exporter": "python",
   "pygments_lexer": "ipython3",
   "version": "3.10.16"
  }
 },
 "nbformat": 4,
 "nbformat_minor": 5
}
