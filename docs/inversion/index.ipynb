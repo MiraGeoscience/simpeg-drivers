{
 "cells": [
  {
   "cell_type": "markdown",
   "id": "906405ee",
   "metadata": {},
   "source": [
    "# Geophysical Inversions\n",
    "\n",
    "This module documents the use of [SimPEG](simpeg.xyz) for geophysical data inversion with user-interface (UIjson) made available through the [Mira Geoscience-geoapps](https://geoapps.readthedocs.io/en/latest/) project. While the code itself has its own documentation, there is a need to demonstrate the effect of parameters controlling the inversion. This document is meant to be a reference guide with practical examples to help practitioners with their inversion work.\n",
    "\n",
    "\n",
    "- [Inversion Fundamentals](fundamentals.ipynb): An overview of the inversion framework.\n",
    "\n",
    "- [Data Misfit](data_misfit.ipynb): Assigning data uncertainties and target.\n",
    "\n",
    "- [Regularization](regularization.ipynb): Adding modeling constraints on the solution.\n",
    "\n",
    "- [Joint/Coupling Strategies](joint_inversion.ipynb): Inverting multiple geophysical surveys.\n",
    "\n",
    "![inversion_ui](./images/inversion_ui.png)"
   ]
  }
 ],
 "metadata": {
  "kernelspec": {
   "display_name": "Python 3 (ipykernel)",
   "language": "python",
   "name": "python3"
  }
 },
 "nbformat": 4,
 "nbformat_minor": 5
}
