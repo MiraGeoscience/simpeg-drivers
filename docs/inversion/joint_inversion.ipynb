{
 "cells": [
  {
   "cell_type": "markdown",
   "id": "e5a10dea",
   "metadata": {},
   "source": [
    "# Joint Inversion\n",
    "\n",
    "This section introduces the methodolgy to invert multiple datasets jointly."
   ]
  },
  {
   "cell_type": "markdown",
   "id": "80b6846f",
   "metadata": {},
   "source": [
    "## Joint Surveys Inversion\n",
    "\n",
    "\n",
    "As illustrated below, the `joint surveys` program allows to invert multiple datasets at once for a single physical property model. The goal is to combine complementary  information from various geophysical surveys that sense the Earth differently.\n",
    "\n",
    "![joint_surveys](./images/joint_surveys.png)\n",
    "\n",
    "For example, a magnetotelluric survey is mostly sensitive to deep structures but can still be affected by local changes in resistivity near the sensor locations. A ground direct-current survey on the other hand is highly sensitive to near surface changes in resisivity. Inverting both surveys together would provide complementary information that improves overall our modeling capabilities.\n",
    "\n",
    "This joint inversion problem does not require a coupling term - simply the summation of multiple misfit functions. Extending the objective function described in the [inverse problem](inverse_problem) section, our new misfit function becomes\n",
    "\n",
    "$$\n",
    "\\phi_d = \\phi_d^A + \\phi_d^B + ...\n",
    "$$\n",
    "\n",
    "or\n",
    "\n",
    "$$\n",
    "\\phi_d = \\sum_{j=A, B, C} \\phi_d^j\n",
    "$$\n",
    "\n",
    "Since each misfit tries to update the same model values, the partial derivatives of each function is also a summation, such that\n",
    "\n",
    "$$\n",
    "\\frac{\\delta \\phi_d}{\\delta m} = \\sum_{j=A, B, C} \\frac{\\delta \\phi_d^j}{\\delta m}\n",
    "$$\n",
    "\n",
    "The joint survey inversion user requires a list of standalone inversion groups as input."
   ]
  },
  {
   "cell_type": "markdown",
   "id": "fa118485",
   "metadata": {},
   "source": [
    "## Joint Properties Inversion\n",
    "\n",
    "The more general joint inversion strategy tries to find commonality between different physical properties models.  The goal is to invert for a `common Earth model` based on multiple geophysical surveys that might provide complementary information. For example, one could invert a direct-current resisitivity survey for the thickness of overburden, along with a gravity survey to highlight the density of targets under cover. Both geophysical survey are sensitive to different components of the sub-surface, but can greatly help each other in reducing ambiguity about the position and shape of physical property contrasts.\n",
    "\n",
    "This kind of joint inversion requires a `coupling` term in order to tie those physical properties together.\n",
    "\n",
    "![joint_coupling](./images/joint_coupling.png)\n",
    "\n",
    "\n",
    "In this case, the model $m$ is made up of N-number of sub-models, one per misfit function. The derivatives of the misfit function become\n",
    "\n",
    "$$\n",
    "\\frac{\\delta \\phi_d}{\\delta m} = \\sum_{j=a, b, c} \\frac{\\delta \\phi_d}{\\delta m_j}\n",
    "$$\n",
    "\n",
    "where the subscript $j$ denotes the component of the model (either resistivity, magnetization or density). Each misfit function incluences a different subset of the model.\n",
    "\n",
    "The following coupling terms are available through the SimPEG framework {cite:p}`heagy_2017`:\n",
    "\n",
    "- [Cross-gradient](cross-gradient)\n",
    "- [Linear Correspondence](linear-correspondence)\n",
    "\n",
    "- [Petrophysically Guided Inversion (PGI)](pgi)"
   ]
  },
  {
   "cell_type": "markdown",
   "id": "85c11b08",
   "metadata": {},
   "source": [
    "(cross-gradient)=\n",
    "\n",
    "### Cross-gradient\n",
    "\n",
    "The `cross-gradient` regularization was first introduced by {cite:p}`gallardo2003` to constrain electrical resistivity and seismic velocity inversions, but the same strategy applies to any physical property models. As the name states, the method employes the cross product on the spatial gradients of models such that\n",
    "\n",
    "$$\n",
    "\\phi_c(\\mathbf{m_A},\\mathbf{m_B}) = \\sum_{i=1}^{M} \\| \\nabla \\mathbf{m_A}_i \\times \\nabla \\mathbf{m_B}_i \\|^2\n",
    "$$\n",
    "\n",
    "where $\\nabla \\mathbf{m_A}$ and $\\nabla \\mathbf{m_B}$ are the gradients for two distinct physical properties (density, magnetization components, resitivity, etc.). Since the cross-product of two vectors is also a vector, we use the total length (l2-norm) of the cross-product. The constraint is small (no impact) if the gradients of the models are either aligned or zero. Oppositely, the measure becomes large if edges in the physical models are perpendicular with each other. Since we attempting to minimize this function, this constraint will force model boundaries to occur at the same location or not at all.\n",
    "\n",
    "It is possible to constrain more than two physical property models by adding multiple cross-gradient terms for every pair of models such that\n",
    "\n",
    "$$\n",
    "\\phi_c(\\mathbf{m_A},\\mathbf{m_B}, \\mathbf{m_C}) = \\alpha_{AB} \\phi(\\mathbf{m_A},\\mathbf{m_B}) + \\alpha_{AC}\\phi(\\mathbf{m_A},\\mathbf{m_C}) + \\alpha_{BC} \\phi(\\mathbf{m_B},\\mathbf{m_C})\n",
    "$$\n",
    "\n",
    "and so on. Each term has a scaling parameter ($\\alpha$) to control the importance of specific cross-gradient terms.\n",
    "\n",
    "\n",
    "(linear-correspondence)=\n",
    "\n",
    "### Linear Correspondence\n",
    "\n",
    "To be continued\n",
    "\n",
    "\n",
    "(pgi)=\n",
    "\n",
    "### Petrophysically Guided Inversion (PGI)\n",
    "\n",
    "To be continued"
   ]
  },
  {
   "cell_type": "markdown",
   "id": "f10c56a0",
   "metadata": {},
   "source": [
    "## Mesh creation\n",
    "\n",
    "This section provides details on how to create the forward simulation meshes for each survey in preparation for a joint inversion. While all the misfit functions try to influence a model $m$ defined on a global mesh, individual forward simulations $\\mathbb{F}^j(m)$ can be defined on sub-domains adapted to their specific array configurations. For example, an airborne EM simulation may require small cells in the air for numerical accuracy, while a dc-resisitivity survey only requires cells underground at the transmitter-receiver pole locations.\n",
    "\n",
    "\n",
    "To be continued\n",
    "\n",
    "<p style=\"page-break-after:always;\"></p>"
   ]
  }
 ],
 "metadata": {
  "kernelspec": {
   "display_name": "Python 3 (ipykernel)",
   "language": "python",
   "name": "python3"
  }
 },
 "nbformat": 4,
 "nbformat_minor": 5
}
