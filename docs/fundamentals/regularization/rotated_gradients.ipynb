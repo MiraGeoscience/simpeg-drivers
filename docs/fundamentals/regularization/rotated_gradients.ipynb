{
 "cells": [
  {
   "cell_type": "markdown",
   "id": "d1c00010",
   "metadata": {},
   "source": [
    "(rotated-gradients)=\n",
    "\n",
    "# Rotated Gradients\n",
    "\n",
    "This section provides details about the rotation of gradient penalties to enforce trends in the model. This option is useful for counteracting modelling bias due to survey design (wide line separation) and reinforcing known geological trends. "
   ]
  },
  {
   "cell_type": "markdown",
   "id": "8405d820-2336-466f-9946-f0f55340b5dd",
   "metadata": {},
   "source": [
    "## Background\n",
    "\n",
    "As covered in the [Regularization](smooth-ref) section, penalties on the model gradients (smoothness) are by default applied along each of the Cartesian axes:\n",
    "\n",
    "$$\n",
    "\\mathbf{f}_i = \\mathbf{G}_i (\\mathbf{m} - \\mathbf{m}_{ref}),\n",
    "$$\n",
    "\n",
    "where $\\mathbf{G}_i$ is a finite difference operator that measures the gradient of the model $\\mathbf{m}$ along one of the Cartesian directions. As proposed by {cite:t}`LiOldenburg2000`, orientation information can be incorporated in the inversion by rotating the gradient operators along different directions such that \n",
    "\n",
    "$$\n",
    "\\mathbf{\\hat f}_i = \\mathbf{\\hat G}_i (\\mathbf{m} - \\mathbf{m}_{ref}),\n",
    "$$\n",
    "\n",
    "where $\\mathbf{\\hat G}_i$ is the rotated gradient along one of the $u$, $v$ and $w$-axis. \n",
    "\n",
    "![grad](./images/gradient_direction.png)\n",
    "\n",
    "\n",
    "In the case of rotated gradients, we want to treat each component independently such that trends can be reinforced along specific directions.\n",
    "$$\n",
    "\\phi(m) = \\| \\mathbf{G}_x \\mathbf{m} \\|_p + \\| \\mathbf{G}_y \\mathbf{m} \\|_p + \\| \\mathbf{G}_z \\mathbf{m} \\|_p \\;.\n",
    "$$\n",
    "\n"
   ]
  },
  {
   "cell_type": "markdown",
   "id": "1ec1e9e0-2f64-41ec-875f-56da5e5ed2ee",
   "metadata": {},
   "source": [
    "## Example\n",
    "\n",
    "We re-use the [magnetic inversion tutorial]()\n",
    "\n",
    "Direction information can be supplied as either `Dip & Dip direction`, `Dip & Strike` or as `3D Vector` data group. \n",
    "\n",
    "![set_ori](./images/create_orientation.png)\n",
    "\n",
    "Setting the group through the UI and lowering the norms along the oriented plane.\n",
    "\n",
    "![set_ori](./images/set_orientation.png)"
   ]
  }
 ],
 "metadata": {
  "kernelspec": {
   "display_name": "Python 3 (ipykernel)",
   "language": "python",
   "name": "python3"
  },
  "language_info": {
   "codemirror_mode": {
    "name": "ipython",
    "version": 3
   },
   "file_extension": ".py",
   "mimetype": "text/x-python",
   "name": "python",
   "nbconvert_exporter": "python",
   "pygments_lexer": "ipython3",
   "version": "3.10.17"
  }
 },
 "nbformat": 4,
 "nbformat_minor": 5
}
