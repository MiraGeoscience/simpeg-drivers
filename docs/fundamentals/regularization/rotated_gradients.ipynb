{
 "cells": [
  {
   "cell_type": "markdown",
   "id": "d1c00010",
   "metadata": {},
   "source": [
    "(rotated-gradients)=\n",
    "\n",
    "# Rotated Gradients\n",
    "\n",
    "This section provides details about the rotation of gradient penalties to enforce trends in the model."
   ]
  },
  {
   "cell_type": "code",
   "execution_count": null,
   "id": "35b60ef2-b3c4-4074-b7ce-4e8835a5c3f4",
   "metadata": {},
   "outputs": [],
   "source": []
  }
 ],
 "metadata": {
  "kernelspec": {
   "display_name": "Python 3 (ipykernel)",
   "language": "python",
   "name": "python3"
  },
  "language_info": {
   "codemirror_mode": {
    "name": "ipython",
    "version": 3
   },
   "file_extension": ".py",
   "mimetype": "text/x-python",
   "name": "python",
   "nbconvert_exporter": "python",
   "pygments_lexer": "ipython3",
   "version": "3.10.17"
  }
 },
 "nbformat": 4,
 "nbformat_minor": 5
}
