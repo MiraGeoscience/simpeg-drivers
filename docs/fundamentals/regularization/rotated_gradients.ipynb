{
 "cells": [
  {
   "cell_type": "markdown",
   "id": "d1c00010",
   "metadata": {},
   "source": [
    "(rotated-gradients)=\n",
    "\n",
    "# Rotated Gradients\n",
    "\n",
    "This section provides details about the rotation of gradient penalties to enforce trends in the model. This option is useful for counteracting modelling bias due to survey design (wide line separation) or reinforcing known geological trends, as depicted in the image below. \n",
    "\n",
    "```{figure} ./images/rotated_demo.png\n",
    "---\n",
    "scale: 30%\n",
    "---\n",
    "(Top) Horizontal and (bottom) verticel sections through (left) a simple dipping dyke model under smooth topography. (Center) Model recovered with the conventional smooth norm inversion. (Right) Compact model obtained with the rotation of the objective function at $45\\circ$ dip and $90\\circ$ azimuth. \n",
    "```"
   ]
  },
  {
   "cell_type": "markdown",
   "id": "8405d820-2336-466f-9946-f0f55340b5dd",
   "metadata": {},
   "source": [
    "## Background\n",
    "\n",
    "As covered in the [Regularization](smooth-ref) section, penalties on the model gradients (smoothness) are defined as:\n",
    "\n",
    "$$\n",
    "\\mathbf{f}_i = \\mathbf{G}_i (\\mathbf{m} - \\mathbf{m}_{ref}),\n",
    "$$\n",
    "\n",
    "where $\\mathbf{G}_i$ is a finite difference operator that measures the gradient of the model $\\mathbf{m}$ along one of the Cartesian directions. As proposed by {cite:t}`LiOldenburg2000`, orientation information can be incorporated in the inversion by rotating the gradient operators along different directions such that \n",
    "\n",
    "$$\n",
    "\\mathbf{\\hat f}_i = \\mathbf{\\hat G}_i (\\mathbf{m} - \\mathbf{m}_{ref}),\n",
    "$$\n",
    "\n",
    "where $\\mathbf{\\hat G}_i$ is the rotated gradient along one of the $u$, $v$ and $w$-axis. `Simpeg-drivers` uses a combination of forward and backward gradient operators to achieve better symmetry in 3D. The gradient operators are constructed based on the partial volumes intercepted by ghost cells rotated about the center of each cell. The partial volumes include diagonal neighbours.  \n",
    "\n",
    "\n"
   ]
  },
  {
   "cell_type": "markdown",
   "id": "1ec1e9e0-2f64-41ec-875f-56da5e5ed2ee",
   "metadata": {},
   "source": [
    "## Inputs\n",
    "\n",
    "Direction information can be supplied as either `Dip & Dip direction`, `Dip & Strike` or as `3D Vector` data group. \n",
    "\n",
    "\n",
    "```{figure} ./images/set_orientation.png\n",
    "---\n",
    "scale: 30%\n",
    "---\n",
    "   \n",
    "```\n",
    "\n",
    "The `dip` angle is a positive angle (degree) downward from the horizontal. The `strike` and `dip direction` are clockwise angles from North. The `3D vector` defines the unit normal of a plane and is perpendicular to both the `Dip & Dip direction` and `Strike & Dip` vectors.\n",
    "\n",
    "```{figure} ./images/gradient_direction.png\n",
    "---\n",
    "scale: 30%\n",
    "---\n",
    "Illustration for the three supported orientation data: (a) `Dip & Dip direction`, (b)`Dip & Strike` and (c) `3D Vector`.   \n",
    "```\n"
   ]
  },
  {
   "cell_type": "code",
   "execution_count": null,
   "id": "fa4ead38-6e6d-4591-a276-d2a8d4cf3005",
   "metadata": {},
   "outputs": [],
   "source": []
  }
 ],
 "metadata": {
  "kernelspec": {
   "display_name": "Python 3 (ipykernel)",
   "language": "python",
   "name": "python3"
  },
  "language_info": {
   "codemirror_mode": {
    "name": "ipython",
    "version": 3
   },
   "file_extension": ".py",
   "mimetype": "text/x-python",
   "name": "python",
   "nbconvert_exporter": "python",
   "pygments_lexer": "ipython3",
   "version": "3.10.17"
  }
 },
 "nbformat": 4,
 "nbformat_minor": 5
}
