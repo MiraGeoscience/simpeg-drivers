{
 "cells": [
  {
   "cell_type": "markdown",
   "id": "43572ed1",
   "metadata": {},
   "source": [
    "(data-misfit)=\n",
    "\n",
    "# Data Fitting\n",
    "\n",
    "The data misfit function ($\\phi_d$) measures the quality of a model $\\mathbf{m}$ at **fitting the observed data**. It generally takes the form\n",
    "\n",
    "$$\n",
    "\\phi_d =\\sum_{i=1}^{N}\\left(\\frac{d_i^{pred} - {d}_i^{obs}}{w_i}\\right)^2 \\;.\n",
    "$$\n",
    "\n",
    "It measures the sum of **weighted residual** between observed ($\\mathbf{d}^{obs}$) and predicted ($\\mathbf{d}^{pred}$) data. In matrix form, this least-squares measure can be written as\n",
    "\n",
    "$$\n",
    "\\phi_d =(F(\\mathbf{m}) - \\mathbf{d}^{obs})^T \\mathbf{W}_d^T \\mathbf{W}_d (F(\\mathbf{m}) - \\mathbf{d}^{obs})\\;,\n",
    "$$\n",
    "\n",
    "where $F(\\mathbf{m})$ is a forward simulation of data (gravity, magnetic, EM, etc.) due to a model $m$. The $\\mathbf{W}_d$ is a diagonal matrix holding the data weights ($\\frac{1}{\\mathbf{w}}$), also referred to as **data uncertainties**. The larger the weights, the less important a datum is to drive the solution. There are many sources of **noise** that can yield large data residuals:\n",
    "\n",
    " - Experimental noise from $\\mathbf{d}^{obs}$, generally introduced during acquisition (positioning, instrumental noise)\n",
    " - Numerical noise introduced by $F(\\mathbf{m})$ from our inability to perfectly simulate the physics (discretization, interpolation, etc.)\n",
    "\n",
    "In all cases, we may never expect the data residual to vanish completely, but we may allow it to be within an *acceptable* level of fitness for modelling purposes."
   ]
  },
  {
   "cell_type": "markdown",
   "id": "87147577",
   "metadata": {},
   "source": [
    "## Uncertainties\n",
    "\n",
    "As mentioned in the :std:ref:`Data Misfit` section, we want to assign **data uncertainties** that reflect our inability to perfectly replicate the observed data, within an acceptable level. While many strategies can be used, we are going to demonstrate basic principles to assess the effectiveness of a chosen method. We will employ two basic strategies:\n",
    "\n",
    "- [Floor](constant-floor) value set as a constant,\n",
    "- [Amplitude-based (%)](amplitude-perct) values with variable weights.\n",
    "\n",
    "We are going to use the synthetic magnetic example shown below. We added 20 nT of random Gaussian noise to the simulated data to emulate field conditions."
   ]
  },
  {
   "cell_type": "markdown",
   "id": "dd92ed2a",
   "metadata": {},
   "source": [
    "![setup_plot](./images/setup_plot.png)\n",
    "\n",
    "![setup](./images/setup.png)"
   ]
  },
  {
   "cell_type": "markdown",
   "id": "83b654f4",
   "metadata": {},
   "source": [
    "(constant-floor)=\n",
    "\n",
    "### Constant floor\n",
    "\n",
    "The simplest choice is to assign a constant value across the entire dataset - also referred to as **\"floor\"** uncertainties.  It is related to the expected standard deviation of a Gaussian distribution if the noise is random.\n",
    "\n",
    "In a *real world* context, the true noise level is unknown. It is common practice to estimate an appropriate floor by trial and error. The following three experiments demonstrate typical characteristics to be expected when attempting to determine an optimal noise floor."
   ]
  },
  {
   "cell_type": "markdown",
   "id": "5654bc96",
   "metadata": {},
   "source": [
    "#### Noise floor too high\n",
    "\n",
    "With a high floor, the inversion is dominated by the [regularization](regularization.ipynb) function and the data remains underfitted - there is coherent signal in the observed data that is not accounted for. The model is very smooth and we have a poor recovery of the shape of the susceptible body."
   ]
  },
  {
   "cell_type": "markdown",
   "id": "71e3c748",
   "metadata": {},
   "source": [
    "![large_floor_plot](./images/large_floor_plot.png)\n",
    "![large_floor](./images/large_floor.png)"
   ]
  },
  {
   "cell_type": "markdown",
   "id": "26d078f5",
   "metadata": {},
   "source": [
    "#### Noise floor too low\n",
    "\n",
    "With this inversion, the uncertainties are intentionally set lower than the known random noise level. The inversion attempts to fit both the signal as well as the random noise. This gives rise to a spiky model with a lot of unwanted structure in the surface. The inversion also ran many more iterations in order to suppress the regularization function."
   ]
  },
  {
   "cell_type": "markdown",
   "id": "fa52fa82",
   "metadata": {},
   "source": [
    "![small_floor_plot](./images/small_floor_plot.png)\n",
    "![small_floor](./images/small_floor.png)"
   ]
  },
  {
   "cell_type": "markdown",
   "id": "e9b971fa",
   "metadata": {},
   "source": [
    "#### Optimal\n",
    "\n",
    "The following inversion is with a well-chosen floor uncertainty. The model is fitting the data well without fitting the background noise. The model is smooth but retains the shape of the source."
   ]
  },
  {
   "cell_type": "markdown",
   "id": "76ac8e8d",
   "metadata": {},
   "source": [
    "![correct_floor_plot](./images/correct_floor_plot.png)\n",
    "![correct_floor](./images/correct_floor.png)"
   ]
  },
  {
   "cell_type": "markdown",
   "id": "81f6f40e",
   "metadata": {},
   "source": [
    "(amplitude-perct)=\n",
    "\n",
    "### Amplitude (%)\n",
    "\n",
    "The second common strategy is to assign uncertainties based on the strength of the signal. In this scenario, we have assigned 10% of the amplitude of data plus a small floor (2 nT) to avoid singularity near zero:\n",
    "\n",
    "$$\n",
    "\\mathbf{w} = \\frac{1}{|\\mathbf{d}^{obs}| + \\epsilon}\n",
    "$$\n",
    "\n",
    "\n",
    "The figures below show the predicted data and recovered model after convergence of the inversion.\n",
    "We note that the predicted data fit well in the background, but underfit directly over the main anomaly. This is generally not desirable as the important portion of the geophysical signal is in the large amplitudes. The poor fit is reflected in the recovered low susceptibility values and smooth shape of the magnetic body."
   ]
  },
  {
   "cell_type": "markdown",
   "id": "c9ec4ef5",
   "metadata": {},
   "source": [
    "![percent_floor_plot](./images/percent_floor_plot.png)\n",
    "![percent_floor](./images/percent_floor.png)"
   ]
  },
  {
   "cell_type": "markdown",
   "id": "464c0560",
   "metadata": {},
   "source": [
    "## Summary\n",
    "\n",
    "In this section we have demonstrated the effect uncertainties have on the outcome of an inversion, both on the data residuals and on the recovered model. It generally takes several inversions to determine appropriate uncertainties and involves some level of subjectivity from the user.\n",
    "\n",
    "<p style=\"page-break-after:always;\"></p>"
   ]
  }
 ],
 "metadata": {
  "kernelspec": {
   "display_name": "Python 3 (ipykernel)",
   "language": "python",
   "name": "python3"
  },
  "language_info": {
   "codemirror_mode": {
    "name": "ipython",
    "version": 3
   },
   "file_extension": ".py",
   "mimetype": "text/x-python",
   "name": "python",
   "nbconvert_exporter": "python",
   "pygments_lexer": "ipython3",
   "version": "3.10.17"
  }
 },
 "nbformat": 4,
 "nbformat_minor": 5
}
