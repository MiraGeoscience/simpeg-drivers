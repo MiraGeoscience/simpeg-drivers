{
 "cells": [
  {
   "cell_type": "markdown",
   "id": "829f888e",
   "metadata": {},
   "source": [
    "# Fundamentals\n",
    "\n",
    "This module documents the use of [SimPEG](https://simpeg.xyz/) for geophysical data inversion with user-interface (UIjson) made available through the [Mira Geoscience-geoapps](https://mirageoscience-geoapps.readthedocs-hosted.com/) project. While the code itself has its own documentation, there is a need to demonstrate the effect of parameters controlling the inversion. This document is meant to be a reference guide with practical examples to help practitioners with their inversion work.\n",
    "\n",
    "\n",
    "- [Background](background.ipynb): An overview of the inversion framework.\n",
    "\n",
    "- [Data Fit](data_misfit.ipynb): Assigning uncertainties and global target (data misfit).\n",
    "\n",
    "- [Regularization (Constraints)](regularization): Adding modeling constraints (regularization).\n",
    "\n",
    "- [Mesh Design](mesh_design.ipynb): Designing an inversion mesh.\n",
    "\n",
    "- [Joint/Coupling Strategies](joint_inversion.ipynb): Inverting multiple geophysical surveys.\n",
    "\n",
    "- [Depth of Investigation](depth_of_investigation.ipynb): Using sensitivities to set depth extents\n",
    "\n",
    "![inversion_ui](./images/inversion_ui.png)"
   ]
  },
  {
   "cell_type": "code",
   "execution_count": null,
   "id": "2308931b-c540-4082-8b20-b4d011e127af",
   "metadata": {},
   "outputs": [],
   "source": []
  }
 ],
 "metadata": {
  "kernelspec": {
   "display_name": "Python 3 (ipykernel)",
   "language": "python",
   "name": "python3"
  },
  "language_info": {
   "codemirror_mode": {
    "name": "ipython",
    "version": 3
   },
   "file_extension": ".py",
   "mimetype": "text/x-python",
   "name": "python",
   "nbconvert_exporter": "python",
   "pygments_lexer": "ipython3",
   "version": "3.10.17"
  }
 },
 "nbformat": 4,
 "nbformat_minor": 5
}
