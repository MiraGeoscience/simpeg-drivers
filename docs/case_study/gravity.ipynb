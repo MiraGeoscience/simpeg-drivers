{
 "cells": [
  {
   "cell_type": "markdown",
   "id": "d34cea76",
   "metadata": {},
   "source": [
    "<p style=\"page-break-after:always;\"></p>\n",
    "\n",
    "# Gravity Inversion\n",
    "\n",
    "This section focuses on the inversion of airborne tensor and ground gravity data.\n",
    "\n",
    "\n",
    "\n",
    "<p style=\"page-break-after:always;\"></p>"
   ]
  },
  {
   "cell_type": "markdown",
   "id": "99eafc35",
   "metadata": {},
   "source": [
    "## Ground gravity data\n",
    "\n",
    "\n",
    "A ground gravity survey was simulated on sparsely sampled 200 m grid of stations. The data are provided a terrain corrected with\n",
    "reference density of 2.67 g/cc.\n",
    "\n",
    "```{figure} ./images/GZ_data.png\n",
    "---\n",
    "scale: 50%\n",
    "name: gz_data\n",
    "---\n",
    "Vertical component of the gravity field (gz) measured over the zone of interest.\n",
    "```\n"
   ]
  },
  {
   "cell_type": "markdown",
   "id": "00f464ef",
   "metadata": {},
   "source": [
    "## Unconstrained ground gravity\n",
    "\n",
    "The ground gravity data (terrain corrected at 2.67 g/cc) were also inverted in the same fashion. A floor uncertainty value of 0.05 mGal was assigned.\n",
    "\n",
    "\n",
    "\n",
    "```{figure} ./images/ground_grav_model_TOP.png\n",
    "---\n",
    "height: 400px\n",
    "name: ground_grav_model_TOP\n",
    "---\n",
    "(Top) (left) Observed and (right) predicted gz data after convergence of the L2 (smooth) solution. Most of the data is well recovered.\n",
    "\n",
    "(Bottom) Horizontal slice for (left) the smooth and (right) L1-norm density contrast models.\n",
    "```\n",
    "\n",
    "[Add more here]\n",
    "\n",
    "We note a slight correlation to the shape of the known ore body\n"
   ]
  },
  {
   "cell_type": "markdown",
   "id": "5576b176",
   "metadata": {},
   "source": [
    "(ftg-data)=\n",
    "\n",
    "## Tensor gravity gradiometry (FTG)\n",
    "\n",
    "An airborne fixed-wing full-tensor gravity gradiometry (FTG) survey was simulated at a nominal drape height of 60 m above topography.\n",
    "\n",
    "The FTG system measures six independent components of the gradient tensor: $g_{xx},\\; g_{xy},\\; g_{xz},\\; g_{yy},\\; g_{yz}$ and $g_{zz}$. Data were leveled, free-air and terrain corrected with 2.67 g/cc reference density.\n",
    "\n",
    "\n",
    "```{figure} ./images/GG_data.png\n",
    "---\n",
    "scale: 50%\n",
    "name: ftg_data\n",
    "---\n",
    "(Top) Components of the gravity gradiometry data measured over the zone of interest. (Bottom) The green and red marker indicate the flight direction.\n",
    "```\n"
   ]
  },
  {
   "cell_type": "markdown",
   "id": "68b36693",
   "metadata": {},
   "source": [
    "## Unconstrained FTG\n",
    "\n",
    "The airborne tensor gravity data (terrain corrected at 2.67 g/cc) were also inverted in the same fashion. A floor uncertainty value of 0.2 Eotvos was assigned to all the components.\n",
    "\n",
    "\n",
    "\n",
    "```{figure} ./images/grav_gradio_model_TOP.png\n",
    "---\n",
    "height: 400px\n",
    "name: grav_gradio_model_TOP\n",
    "---\n",
    "(Top) (left) Observed and (right) predicted gxx data after convergence of the L2 (smooth) solution. Most of the data is well recovered.\n",
    "\n",
    "(Bottom) Horizontal slice for (left) the smooth and (right) L1-norm density contrast models.\n",
    "```\n",
    "\n",
    "We note a slight correlation to the shape of the known ore body\n",
    "\n",
    "\n",
    "<p style=\"page-break-after:always;\"></p>"
   ]
  }
 ],
 "metadata": {
  "kernelspec": {
   "display_name": "Python 3 (ipykernel)",
   "language": "python",
   "name": "python3"
  }
 },
 "nbformat": 4,
 "nbformat_minor": 5
}
