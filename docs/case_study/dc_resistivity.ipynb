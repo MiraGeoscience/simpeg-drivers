{
 "cells": [
  {
   "cell_type": "markdown",
   "id": "66a76dc3",
   "metadata": {},
   "source": [
    "<p style=\"page-break-after:always;\"></p>\n",
    "\n",
    "# Direct-current Resistivity Inversion\n",
    "\n",
    "This section focuses on the inversion of direct-current (DC) resistivity data using a conventional dipole-dipole array.\n",
    "\n",
    "<p style=\"page-break-after:always;\"></p>"
   ]
  },
  {
   "cell_type": "markdown",
   "id": "550546a1",
   "metadata": {},
   "source": [
    "(dc-data)=\n",
    "\n",
    "## Data\n",
    "\n",
    "A ground dipole-dipole survey was simulated over the main ore body. The survey was acquired with 40 m dipole length, data measured on seven receivers per transmitter dipole. Line separation was set to 100 m ([Figure 5](dc_topo)).\n",
    "\n",
    "```{figure} ./images/DCR_data.png\n",
    "---\n",
    "scale: 50%\n",
    "name: dc_topo\n",
    "---\n",
    "Pseudo-sections of apparent resisitvity and topography from the SRTM elevation model.\n",
    "```\n",
    "\n",
    "Note the large contrast in apparent resistivity between the western and eastern regions of the survey. This can be explained by a conductive tailing layer West of the deposit.\n",
    "\n",
    "<p style=\"page-break-after:always;\"></p>"
   ]
  },
  {
   "cell_type": "markdown",
   "id": "25114dac",
   "metadata": {},
   "source": [
    "## Unconstrained Inversion\n",
    "\n",
    "The direct-current data are inverted with uncertainties assigned based on a background resistivity value, then converted to potentials.\n",
    "\n",
    "[Add details]\n",
    "\n",
    "The following figure shows the data fit and models recovered after convergence.\n",
    "\n",
    "```{figure} ./images/dc_model_TOP.png\n",
    "---\n",
    "height: 400px\n",
    "name: dc_model_TOP.png\n",
    "---\n",
    "(Top) (left) Observed and (right) predicted apparent resistivity data after convergence.\n",
    "\n",
    "(Bottom)\n",
    "(Left) Horizontal section at 240 m elevation through the compact density model.\n",
    "(Right) Vertical NS section through the recovered smooth resistivity model.\n",
    "```\n",
    "\n",
    "We note a large contrast in conductivity in plan view, mostly limited as near-surface layer. This feature can be explained by the conductive tailings.\n",
    "\n",
    "<p style=\"page-break-after:always;\"></p>"
   ]
  }
 ],
 "metadata": {
  "kernelspec": {
   "display_name": "Python 3 (ipykernel)",
   "language": "python",
   "name": "python3"
  }
 },
 "nbformat": 4,
 "nbformat_minor": 5
}
