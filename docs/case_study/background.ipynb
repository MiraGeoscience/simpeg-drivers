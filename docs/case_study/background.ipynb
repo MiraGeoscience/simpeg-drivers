{
 "cells": [
  {
   "cell_type": "markdown",
   "id": "5e5c1009",
   "metadata": {},
   "source": [
    "<p style=\"page-break-after:always;\"></p>\n",
    "\n",
    "# Background\n",
    "\n",
    "The processing and inversion work focuses on ground and airborne datasets simulated over the Flin Flon model ([Figure 3](global_map)). Extensive drilling has been done over the deposit, as shown in [Figure 3](global_map).\n",
    "\n",
    "```{figure} ./images/map_flinflon.png\n",
    "---\n",
    "height: 400px\n",
    "name: global_map\n",
    "---\n",
    "Geological map and drillholes of the Flin Flon deposit. Outline of the main ore body (red) is shown for reference.\n",
    "```\n",
    "\n",
    "The synthetic block model was generated from open-source data made available by [Natural Resources Canada (NRCan)](https://ostrnrcan-dostrncan.canada.ca/entities/publication/73d767d8-ee1c-4bab-a2da-52dcf83faa06). The VMS deposit is hosted in rhyolite unit ...\n",
    "\n",
    "```{figure} ./images/ore_body.png\n",
    "---\n",
    "height: 400px\n",
    "name: ore_body\n",
    "---\n",
    "Discrete geological model of the ore deposit and host units.\n",
    "```\n",
    "\n",
    " [Table 1](phys_prop) summarizes the relative physical properties of the main rock units in the area.\n",
    "The VMS ore is expected to be more conductive and dense than the host rocks, as well as highly magnetic. This is contrast with the host rhyolite unit with low density, non-magnetic and highly resistive. The background mafic rocks are generally non-magnetic and have moderate densities and resistivities. A thick (40 m) overburden layer of relatively low density and  low resistivity covers the survey area.\n",
    "\n",
    "\n",
    "```{table} Summary of expected physical properties\n",
    ":name: phys_prop\n",
    "| Unit | Density (g/cc) | Magnetic Susceptibility (SI) | Resistivity (Ohm.m) |\n",
    "| :--- | :--- | :---- | :---- |\n",
    "| Rhyolite |  low    | low      | high     |\n",
    "| Chloritic Schist |  moderate    | low      | moderate     |\n",
    "| Mafic Volcanics |  moderate    | low      | moderate     |\n",
    "| Mafic Dykes |  moderate    | low      | moderate     |\n",
    "| Host Mafic |  moderate    | low      | moderate     |\n",
    "| Basalt |  moderate    | moderate      | low     |\n",
    "| Ore |  high    | high      | low     |\n",
    "| Overburden |  low    | low      | moderate     |\n",
    "| Tailings |  low    | low      | low     |\n",
    "```"
   ]
  }
 ],
 "metadata": {
  "kernelspec": {
   "display_name": "Python 3 (ipykernel)",
   "language": "python",
   "name": "python3"
  }
 },
 "nbformat": 4,
 "nbformat_minor": 5
}
