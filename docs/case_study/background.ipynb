{
 "cells": [
  {
   "cell_type": "markdown",
   "id": "5d33bd04",
   "metadata": {},
   "source": [
    "<p style=\"page-break-after:always;\"></p>\n",
    "\n",
    "# Background\n",
    "\n",
    "The processing and inversion work focuses on airborne datasets acquired over the Carajas - Block 3 area ([Figure 3](global_map)). The region contains several iron-ore deposits currently exploited by Vale. This case study focuses on the southern portion of Block 3, over a known ore body currently under investigation by the exploration team.\n",
    "\n",
    "```{figure} ./images/map_carajas.png\n",
    "---\n",
    "height: 400px\n",
    "name: global_map\n",
    "---\n",
    "Satellite image over the Carajas - Block 3 area. Flight lines (black) of the HeliTEM survey and outline of the expected jaspelite (blue) and hematite (red) ore bodies are shown for reference.\n",
    "```\n",
    "\n",
    "Limited drilling has been done over the Western half of the deposit, as shown in [Figure 4](ore_body).\n",
    "The iron formation is made up of units ranging from jaspelite (JP) in variable degree of alteration (supergene alteration) to compact hematite (HC) and friable hematite (HF) units. On the top of it, there is the occurrence of the extreme alteration product of the iron body, forming an iron crust, called \"structural canga\" (CE). For Vale, the iron ore is composed by HF and CE units. The whole iron formation is hosted in a mafic unit, also with variable degree of supergene alteration, which is composed by the non-alterated mafic (MS), semi-decomposed mafic (MSD) and decomposed mafic (MD).\n",
    "\n",
    "```{figure} ./images/ore_body.png\n",
    "---\n",
    "height: 400px\n",
    "name: ore_body\n",
    "---\n",
    "Close-up view of the expected ore shell with respect to the drilling data.\n",
    "```\n",
    "\n",
    " [Table 1](phys_prop) summarizes the relative physical properties of the main rock units in the area.\n",
    "The iron formation is expected to be more resistive and dense than the host rocks. Although non-alterated mafic rocks are generally magnetic, petrophysical data show that the iron formation in this region is more magnetic than the host rocks. In fact, jaspelite has a higher concentration of magnetite than any other lithology in this area.\n",
    "\n",
    "\n",
    "\n",
    "```{table} Summary of expected physical properties\n",
    ":name: phys_prop\n",
    "| Unit | Susceptibility | Density | Resistivity |\n",
    "| :--- | :--- | :---- | :---- |\n",
    "| Jaspelite (JP) |  high    | high      | high     |\n",
    "| Hematite (HC) |  high    | high      | high     |\n",
    "| Mafic (MS, MSD) |  moderate    | moderate      | moderate     |\n",
    "```\n"
   ]
  }
 ],
 "metadata": {
  "kernelspec": {
   "display_name": "Python 3 (ipykernel)",
   "language": "python",
   "name": "python3"
  },
  "language_info": {
   "codemirror_mode": {
    "name": "ipython",
    "version": 3
   },
   "file_extension": ".py",
   "mimetype": "text/x-python",
   "name": "python",
   "nbconvert_exporter": "python",
   "pygments_lexer": "ipython3",
   "version": "3.9.16"
  }
 },
 "nbformat": 4,
 "nbformat_minor": 5
}
