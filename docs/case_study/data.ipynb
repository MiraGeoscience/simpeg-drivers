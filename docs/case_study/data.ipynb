{
 "cells": [
  {
   "cell_type": "markdown",
   "id": "39c48a45",
   "metadata": {},
   "source": [
    "<p style=\"page-break-after:always;\"></p>\n",
    "\n",
    "# Data\n",
    "\n",
    "This section provides details about the three datasets simulated for this tutorial:\n",
    "\n",
    "- [Direct-current resistivity (DCR)](dc-data)\n",
    "- [Magnetic total field (HeliTEM)](magnetic-data)\n",
    "- [Airborne full-tensor gravity gradiometry (FTG)](ftg-data)\n",
    "\n",
    "\n",
    "```{figure} ./images/project_area.png\n",
    "---\n",
    "scale: 50%\n",
    "name: project_area\n",
    "---\n",
    "Data coverage for the ground gravity (black), airborne gravity gradiometry (red), airborne magnetics (green) and direct-current (blue) surveys. Outline of the ore shell (gray) is shown for reference.\n",
    "```\n",
    "\n",
    "<p style=\"page-break-after:always;\"></p>"
   ]
  },
  {
   "cell_type": "markdown",
   "id": "0e28c183",
   "metadata": {},
   "source": [
    "(dc-data)=\n",
    "\n",
    "## Direct-current resistivity (DCR)\n",
    "\n",
    "A ground dipole-dipole survey was simulated over the main ore body. The survey was acquired with 40 m dipole length, data measured on seven receivers per transmitter dipole. Line separation was set to 100 m ([Figure 5](dc_topo)).\n",
    "\n",
    "```{figure} ./images/DCR_data.png\n",
    "---\n",
    "scale: 50%\n",
    "name: dc_topo\n",
    "---\n",
    "Pseudo-sections of apparent resisitvity and topography from the SRTM elevation model.\n",
    "```\n",
    "\n",
    "Note the large contrast in apparent resistivity between the western and eastern regions of the survey. This can be explained by a conductive tailing layer West of the deposit.\n",
    "\n",
    "<p style=\"page-break-after:always;\"></p>"
   ]
  },
  {
   "cell_type": "markdown",
   "id": "38397ecb",
   "metadata": {},
   "source": [
    "(magnetic-data)=\n",
    "\n",
    "## Airborne magnetic survey (TMI)\n",
    "\n",
    "We simulated Residual Magnetic Intensity (RMI) data along East-West lines at a 40 m drape height above topography. The line spacing was set to 200 m, with along-line data downsampled to 10 m.\n",
    "\n",
    "The following inducing field parameters were used for the forward simulation:\n",
    "\n",
    "| Intensity | Declination | Inclination |\n",
    "| :--- | :--- | :---- |\n",
    "| $60000$ nT |   $11^\\circ$   | $79^\\circ$ |\n",
    "\n",
    "\n",
    "```{figure} ./images/MAG_data.png\n",
    "---\n",
    "scale: 50%\n",
    "name: mag_data\n",
    "---\n",
    "Residual magnetic intensity (RMI) data measured over the zone of interest.\n",
    "```\n",
    "\n",
    "We can notice a strong correlation between the RMI data and the horizontal position of the ore body.\n",
    "\n",
    "<p style=\"page-break-after:always;\"></p>"
   ]
  },
  {
   "cell_type": "markdown",
   "id": "38687f97",
   "metadata": {},
   "source": [
    "(ftg-data)=\n",
    "\n",
    "## Airborne tensor gravity gradiometry (FTG)\n",
    "\n",
    "An airborne fixed-wing full-tensor gravity gradiometry (FTG) survey was simulated at a nominal drape height of 60 m above topography.\n",
    "\n",
    "The FTG system measures six independent components of the gradient tensor: $g_{xx},\\; g_{xy},\\; g_{xz},\\; g_{yy},\\; g_{yz}$ and $g_{zz}$. Data were leveled, free-air and terrain corrected with 2.67 g/cc reference density.\n",
    "\n",
    "\n",
    "```{figure} ./images/GG_data.png\n",
    "---\n",
    "scale: 50%\n",
    "name: ftg_data\n",
    "---\n",
    "(Top) Components of the gravity gradiometry data measured over the zone of interest. (Bottom) The green and red marker indicate the flight direction.\n",
    "```\n"
   ]
  },
  {
   "cell_type": "markdown",
   "id": "68137185",
   "metadata": {},
   "source": [
    "## Ground gravity survey\n",
    "\n",
    "A ground gravity survey was simulated on sparsely sampled 200 m grid of stations. The data are provided a terrain corrected with\n",
    "reference density of 2.67 g/cc.\n",
    "\n",
    "```{figure} ./images/GZ_data.png\n",
    "---\n",
    "scale: 50%\n",
    "name: gz_data\n",
    "---\n",
    "Vertical component of the gravity field (gz) measured over the zone of interest.\n",
    "```\n"
   ]
  }
 ],
 "metadata": {
  "kernelspec": {
   "display_name": "Python 3 (ipykernel)",
   "language": "python",
   "name": "python3"
  }
 },
 "nbformat": 4,
 "nbformat_minor": 5
}
