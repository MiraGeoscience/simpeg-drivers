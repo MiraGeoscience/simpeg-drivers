{
 "cells": [
  {
   "cell_type": "markdown",
   "id": "332ab4a6",
   "metadata": {},
   "source": [
    "<p style=\"page-break-after:always;\"></p>\n",
    "\n",
    "# Data\n",
    "\n",
    "This section provides details about the various datasets simulated for this tutorial:\n",
    "\n",
    "- [Magnetic total field (HeliTEM)](magnetic-data)\n",
    "- [Airborne full-tensor gravity gradiometry (FTG)](ftg-data)\n",
    "- [Direct-current resistivity (DCR)](dc-data)\n",
    "- [Airborne Tipper (NSEM)](tipper-data)\n",
    "\n",
    "\n",
    "```{figure} ./images/project_area.png\n",
    "---\n",
    "scale: 50%\n",
    "name: project_area\n",
    "---\n",
    "Data coverage for the ground gravity (black), airborne gravity gradiometry (red), airborne magnetics (green) and direct-current (blue) surveys. Outline of the ore shell (gray) is shown for reference.\n",
    "```\n",
    "\n",
    "<p style=\"page-break-after:always;\"></p>"
   ]
  },
  {
   "cell_type": "markdown",
   "id": "d9b82fe3",
   "metadata": {},
   "source": [
    "(magnetic-data)=\n",
    "\n",
    "## Airborne magnetic survey (TMI)\n",
    "\n",
    "We simulated Residual Magnetic Intensity (RMI) data along East-West lines at a 40 m drape height above topography. The line spacing was set to 200 m, with along-line data downsampled to 10 m.\n",
    "\n",
    "The following inducing field parameters were used for the forward simulation:\n",
    "\n",
    "| Intensity | Declination | Inclination |\n",
    "| :--- | :--- | :---- |\n",
    "| $60000$ nT |   $11^\\circ$   | $79^\\circ$ |\n",
    "\n",
    "\n",
    "```{figure} ./images/MAG_data.png\n",
    "---\n",
    "scale: 50%\n",
    "name: mag_data\n",
    "---\n",
    "Residual magnetic intensity (RMI) data measured over the zone of interest.\n",
    "```\n",
    "\n",
    "We can notice a strong correlation between the RMI data and the horizontal position of the ore body.\n",
    "\n",
    "<p style=\"page-break-after:always;\"></p>"
   ]
  },
  {
   "cell_type": "markdown",
   "id": "0bba7287",
   "metadata": {},
   "source": [
    "(ftg-data)=\n",
    "\n",
    "## Airborne tensor gravity gradiometry (FTG)\n",
    "\n",
    "An airborne fixed-wing full-tensor gravity gradiometry (FTG) survey was simulated at a nominal drape height of 60 m above topography.\n",
    "\n",
    "The FTG system measures six independent components of the gradient tensor: $g_{xx},\\; g_{xy},\\; g_{xz},\\; g_{yy},\\; g_{yz}$ and $g_{zz}$. Data were leveled, free-air and terrain corrected with 2.67 g/cc reference density.\n",
    "\n",
    "\n",
    "```{figure} ./images/GG_data.png\n",
    "---\n",
    "scale: 50%\n",
    "name: ftg_data\n",
    "---\n",
    "(Top) Components of the gravity gradiometry data measured over the zone of interest. (Bottom) The green and red marker indicate the flight direction.\n",
    "```\n"
   ]
  },
  {
   "cell_type": "markdown",
   "id": "974b28c1",
   "metadata": {},
   "source": [
    "## Ground gravity survey\n",
    "\n",
    "A ground gravity survey was simulated on sparsely sampled 200 m grid of stations. The data are provided a terrain corrected with\n",
    "reference density of 2.67 g/cc.\n",
    "\n",
    "```{figure} ./images/GZ_data.png\n",
    "---\n",
    "scale: 50%\n",
    "name: gz_data\n",
    "---\n",
    "Vertical component of the gravity field (gz) measured over the zone of interest.\n",
    "```\n"
   ]
  },
  {
   "cell_type": "markdown",
   "id": "ef90b307",
   "metadata": {},
   "source": [
    "(dc-data)=\n",
    "\n",
    "## Direct-current resistivity (DCR)\n",
    "\n",
    "A ground dipole-dipole survey was simulated over the main ore body. The survey was acquired with 40 m dipole length, data measured on seven receivers per transmitter dipole. Line separation was set to 100 m ([Figure 5](dc_topo)).\n",
    "\n",
    "```{figure} ./images/DCR_data.png\n",
    "---\n",
    "scale: 50%\n",
    "name: dc_topo\n",
    "---\n",
    "Pseudo-sections of apparent resisitvity and topography from the SRTM elevation model.\n",
    "```\n",
    "\n",
    "Note the large contrast in apparent resistivity between the western and eastern regions of the survey. This can be explained by a conductive tailing layer West of the deposit.\n",
    "\n",
    "<p style=\"page-break-after:always;\"></p>"
   ]
  },
  {
   "cell_type": "markdown",
   "id": "d4de1190",
   "metadata": {},
   "source": [
    "(tipper-data)=\n",
    "\n",
    "## Airborne tipper (Natural Source EM)\n",
    "\n",
    "An airborne tipper survey was simulated over the main ore body. The survey was acquired along East-West lines, 400 m spacing, at a drape height of 60 m ([Figure 5](dc_topo)). \n",
    "Tipper systems collect three orthogonal components of the ambiant magnetic field ($H_x,\\;H_y,\\;H_z$) in time. Similar to magnetotelluric surveys, the ratios of the components are used to circumvent the unknown source of the EM signal. The transfer functions, or tipper, are calculated by taking the ratio of the fields for two polarizations of the magnetic fields (EW and NS). The measurements are generally provided in the frequency-domain with both a real and an imaginary component.   \n",
    "For more background information about natural source methods, see [em.geosci](https://em.geosci.xyz/content/geophysical_surveys/ztem/index.html)\n",
    "\n",
    "The survey used in this tutorial mimics the commercial [ZTEM](https://geotech.ca/services/electromagnetic/ztem-z-axis-tipper-electromagnetic-system/) system that measures the magnetic field at 6 frequencies (30, 45, 90, 180, 360 and 720 Hz). The base station is located at the center of the survey area.\n",
    "\n",
    "```{figure} ./images/tipper_data.png\n",
    "---\n",
    "scale: 50%\n",
    "name: tipper_topo\n",
    "---\n",
    "Tipper data displayed by the 2D Profiler at all 6 frequencies for the 4 components ($T_{zx}$, $T_{zy}$, real and imaginary).\n",
    "```\n",
    "\n",
    "Note that the position of the known conductor correlate with large variations in the tipper data.\n",
    "\n",
    "<p style=\"page-break-after:always;\"></p>"
   ]
  }
 ],
 "metadata": {
  "kernelspec": {
   "display_name": "Python 3 (ipykernel)",
   "language": "python",
   "name": "python3"
  }
 },
 "nbformat": 4,
 "nbformat_minor": 5
}
