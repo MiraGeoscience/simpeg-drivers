{
 "cells": [
  {
   "cell_type": "markdown",
   "id": "6e6a9d3f",
   "metadata": {},
   "source": [
    "<p style=\"page-break-after:always;\"></p>\n",
    "\n",
    "# Unconstrained inversions\n",
    "\n",
    "In preparation for the joint inversion, we first inverted each dataset independently. It serves as a quality control step for data uncertainties estimation and mesh design. We can solve possible convergence issues before attempting to couple the physical property models in a joint process.\n"
   ]
  },
  {
   "cell_type": "markdown",
   "id": "323c7ec1",
   "metadata": {},
   "source": [
    "## Magnetic inversion\n",
    "\n",
    "The airborne magnetic data were inverted over a range of uncertainties in order to achieve an adequate data fit. Following the smooth solution, a series of IRLS iterations were performed to recover an alternate, more compact model. The following figure shows sections through the recovered models and compares the observed and predicted data.\n",
    "\n",
    "\n",
    "```{figure} ./images/mag_model_TOP.png\n",
    "---\n",
    "height: 400px\n",
    "name: mag_model_TOP\n",
    "---\n",
    "(Top) (left) Observed and (right) predicted data after convergence of the L2 (smooth) solution. Most of the data is well recovered.\n",
    "\n",
    "(Bottom) Horizontal slice at 255 m elevation for (left) the smooth and (right) compact magnetization models. The outline of the inferred ore shell is shown in gray for reference.\n",
    "```\n",
    "\n",
    "We note a somewhat good correlation between the shape of the inferred ore shell and magnetic model. The magnetization appears to be shifted southward and at depth, as seen in profile.\n",
    "\n",
    "[Add more here]\n",
    "\n",
    "\n",
    "<p style=\"page-break-after:always;\"></p>"
   ]
  },
  {
   "cell_type": "markdown",
   "id": "f097a190",
   "metadata": {},
   "source": [
    "## Ground gravity inversion\n",
    "\n",
    "The ground gravity data, reference terrain corrected at 2.67 g/cc, were also inverted in the same fashion. A floor uncertainty value of 0.05 mGal was assigned.\n",
    "\n",
    "\n",
    "\n",
    "```{figure} ./images/ground_grav_model_TOP.png\n",
    "---\n",
    "height: 400px\n",
    "name: ground_grav_model_TOP\n",
    "---\n",
    "(Top) (left) Observed and (right) predicted gz data after convergence of the L2 (smooth) solution. Most of the data is well recovered.\n",
    "\n",
    "(Bottom) Horizontal slice for (left) the smooth and (right) L1-norm density contrast models.\n",
    "```\n",
    "\n",
    "[Add more here]\n",
    "\n",
    "We note a slight correlation to the shape of the known ore body\n"
   ]
  },
  {
   "cell_type": "markdown",
   "id": "c02f5e4a",
   "metadata": {},
   "source": [
    "## Gravity gradiometry inversion\n",
    "\n",
    "The airborne tensor terrain corrected (2.67 g/cc) gravity data were also inverted in the same fashion. A floor uncertainty value of 0.2 Eotvos was assigned to all the components.\n",
    "\n",
    "\n",
    "\n",
    "```{figure} ./images/grav_gradio_model_TOP.png\n",
    "---\n",
    "height: 400px\n",
    "name: grav_gradio_model_TOP\n",
    "---\n",
    "(Top) (left) Observed and (right) predicted gxx data after convergence of the L2 (smooth) solution. Most of the data is well recovered.\n",
    "\n",
    "(Bottom) Horizontal slice for (left) the smooth and (right) L1-norm density contrast models. The outline of the inferred ore shell is shown in gray for reference.\n",
    "```\n",
    "\n",
    "We note a slight correlation to the shape of the known ore body\n",
    "\n",
    "\n",
    "<p style=\"page-break-after:always;\"></p>"
   ]
  },
  {
   "cell_type": "markdown",
   "id": "bc3d1b9b",
   "metadata": {},
   "source": [
    "## Direct-current inversion\n",
    "\n",
    "The direct-current data are inverted with uncertainties assigned based on a background resistivity value, then converted to potentials.\n",
    "\n",
    "[Add details]\n",
    "\n",
    "The following figure shows the data fit and models recovered after convergence.\n",
    "\n",
    "```{figure} ./images/dc_model_TOP.png\n",
    "---\n",
    "height: 400px\n",
    "name: dc_model_TOP.png\n",
    "---\n",
    "(Top) (left) Observed and (right) predicted apparent resistivity data after convergence.\n",
    "\n",
    "(Bottom)\n",
    "(Left) Horizontal section at 240 m elevation through the compact density model. Outline of the hematite shell is shown in grey for reference.\n",
    "(Right) Vertical NS section through the recovered smooth resistivity model.\n",
    "```\n",
    "\n",
    "We note a large contrast in conductivity in plan view, mostly limited as near-surface layer. This feature can be explained by the conductive tailings.\n",
    "\n",
    "<p style=\"page-break-after:always;\"></p>"
   ]
  }
 ],
 "metadata": {
  "kernelspec": {
   "display_name": "Python 3 (ipykernel)",
   "language": "python",
   "name": "python3"
  }
 },
 "nbformat": 4,
 "nbformat_minor": 5
}
