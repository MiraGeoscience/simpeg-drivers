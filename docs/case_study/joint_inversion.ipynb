{
 "cells": [
  {
   "cell_type": "markdown",
   "id": "57159c74",
   "metadata": {},
   "source": [
    "# Joint Inversion\n",
    "\n",
    "To be continued ..."
   ]
  }
 ],
 "metadata": {
  "kernelspec": {
   "display_name": "Python 3 (ipykernel)",
   "language": "python",
   "name": "python3"
  }
 },
 "nbformat": 4,
 "nbformat_minor": 5
}
