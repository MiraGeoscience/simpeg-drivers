{
 "cells": [
  {
   "cell_type": "markdown",
   "id": "c682f5c2",
   "metadata": {},
   "source": [
    "# Joint Inversion\n",
    "\n",
    "To be continued ..."
   ]
  }
 ],
 "metadata": {
  "kernelspec": {
   "display_name": "Python 3 (ipykernel)",
   "language": "python",
   "name": "python3"
  }
 },
 "nbformat": 4,
 "nbformat_minor": 5
}
