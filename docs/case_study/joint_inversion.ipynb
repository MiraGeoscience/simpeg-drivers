{
 "cells": [
  {
   "cell_type": "markdown",
   "id": "42f13d9e",
   "metadata": {},
   "source": [
    "# Joint Inversion\n",
    "\n",
    "To be continued ..."
   ]
  }
 ],
 "metadata": {
  "kernelspec": {
   "display_name": "Python 3 (ipykernel)",
   "language": "python",
   "name": "python3"
  }
 },
 "nbformat": 4,
 "nbformat_minor": 5
}
