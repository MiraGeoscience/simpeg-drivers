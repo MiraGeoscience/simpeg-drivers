{
 "cells": [
  {
   "cell_type": "markdown",
   "id": "ecbe1e88",
   "metadata": {},
   "source": [
    "<p style=\"page-break-after:always;\"></p>\n",
    "\n",
    "# Tutorials\n",
    "\n",
    "This chapter demonstrates how to run standalone and joint inversions of geophysical data using SimPEG and the user-interface created for Geoscience ANALYST. We generated several synthetic surveys over the Flin Flon model to simulate an exploration program over a VMS deposit.\n",
    "The goal is to use ground and airborne geophysics to characterize the physical property and shape of the ore body and host rocks. This case study focuses on the following three datasets and respective physical properties:\n",
    "\n",
    "In preparation for the joint inversion, we first inverted each dataset independently ([Figure 1](standalone)). It serves as a quality control step for data uncertainties estimation and mesh design. We can solve possible convergence issues before attempting to couple the physical property models in a joint process.\n",
    "\n",
    "The data is then jointly with a cross-gradient coupling constraint ([Figure 2](joint)).\n",
    "\n",
    "\n",
    "```{figure} ./images/ore_body.png\n",
    "---\n",
    "height: 400px\n",
    "name: ore_body\n",
    "---\n",
    "Discrete geological model of the ore deposit and host units.\n",
    "```\n",
    "\n",
    "The following sections provide details about the processing and results. A compilation `geoh5` project can be found in the `simpeg-drivers-assets` folder.\n",
    "\n",
    "- [Background information](background.ipynb)\n",
    "- [Magnetic Total Field (TMI)](magnetic)\n",
    "- [Full-tensor gravity gradiometry (FTG)](gravity)\n",
    "- [Direct-current resistivity (DCR)](dc_resistivity)\n",
    "- [Airborne Tipper (NSEM)](tipper)\n",
    "- [Airborne Time-Domain EM (ATEM)](airborne_tem)\n",
    "- [Joint inversion](joint_inversion.ipynb)"
   ]
  }
 ],
 "metadata": {
  "kernelspec": {
   "display_name": "Python 3 (ipykernel)",
   "language": "python",
   "name": "python3"
  }
 },
 "nbformat": 4,
 "nbformat_minor": 5
}
