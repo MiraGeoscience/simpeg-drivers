{
 "cells": [
  {
   "cell_type": "markdown",
   "id": "3f5d5563",
   "metadata": {},
   "source": [
    "<p style=\"page-break-after:always;\"></p>\n",
    "\n",
    "# Case Studies\n",
    "\n",
    "\n",
    "```{figure} ./images/standalone_10clusters.png\n",
    "---\n",
    "scale: 50%\n",
    "align: right\n",
    "name: standalone\n",
    "---\n",
    "Standalone physical property model.\n",
    "```\n",
    "\n",
    "\n",
    "```{figure} ./images/joint_10clusters.png\n",
    "---\n",
    "scale: 50%\n",
    "align: right\n",
    "name: joint\n",
    "---\n",
    "Joint physical property model.\n",
    "```\n",
    "\n",
    "\n",
    "This chapter summarizes the work completed by Mira Geoscience to validate the algorithms and inversion codes developed during the Accelerated Development project for Vale S.A.\n",
    "\n",
    "After consulting with Vale's exploration team, the decision was made to focus on a southern portion of Carajas-Block 3 site. Several surveys have been flown over the area to help delineate known ore deposits and to identify potential extension zones.\n",
    "The goal is to use airborne geophysics to characterize the physical property and shape of the ore body and host rocks. This case study focuses on the following three datasets and respective physical properties:\n",
    "\n",
    "- [Time-domain EM (HeliTEM)](atem-data) -> resistivity\n",
    "- [Magnetic Total Field (TMI)](magnetic-data) -> magnetization\n",
    "- [Full-tensor gravity gradiometry (FTG)](ftg-data) -> density\n",
    "\n",
    "The datasets were first inverted independently ([Figure 1](standalone)), then jointly with a cross-gradient coupling constraint ([Figure 2](joint)).\n",
    "\n",
    "The following sections provide details about the processing and results. A compilation `geoh5` project can be found [here](https://mirageoscience-my.sharepoint.com/:u:/p/dominiquef/ETI3rho9sdVIqvYoAclE-xMBxrrieDzf0oF6gJIyCzlkxQ?e=yaJ6ry)\n",
    "\n",
    "- [Background information](background.ipynb)\n",
    "- [Data](data.ipynb)\n",
    "- [Mesh design](mesh_design.ipynb)\n",
    "- [Unconstrained inversions](unconstrained_inversion.ipynb)\n",
    "- [Joint inversion](joint_inversion.ipynb)"
   ]
  }
 ],
 "metadata": {
  "kernelspec": {
   "display_name": "Python 3 (ipykernel)",
   "language": "python",
   "name": "python3"
  },
  "language_info": {
   "codemirror_mode": {
    "name": "ipython",
    "version": 3
   },
   "file_extension": ".py",
   "mimetype": "text/x-python",
   "name": "python",
   "nbconvert_exporter": "python",
   "pygments_lexer": "ipython3",
   "version": "3.9.16"
  }
 },
 "nbformat": 4,
 "nbformat_minor": 5
}
