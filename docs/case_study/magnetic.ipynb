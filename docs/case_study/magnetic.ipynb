{
 "cells": [
  {
   "cell_type": "markdown",
   "id": "64e79b57",
   "metadata": {},
   "source": [
    "<p style=\"page-break-after:always;\"></p>\n",
    "\n",
    "# Magnetic Inversion\n",
    "\n",
    "This section focuses on the inversion of magnetic data using a scalar (susceptibility) and a magnetization (vector) approach.\n",
    "\n",
    "\n",
    "<p style=\"page-break-after:always;\"></p>"
   ]
  },
  {
   "cell_type": "markdown",
   "id": "b8fb5dec",
   "metadata": {},
   "source": [
    "(magnetic-data)=\n",
    "\n",
    "## Data (TMI)\n",
    "\n",
    "We simulated Residual Magnetic Intensity (RMI) data along East-West lines at a 40 m drape height above topography. The line spacing was set to 200 m, with along-line data downsampled to 10 m.\n",
    "\n",
    "The following parameters were used for the forward simulation:\n",
    "\n",
    "```{figure} ./images/magnetics/forward.png\n",
    "---\n",
    "scale: 50%\n",
    "name: mag_forward\n",
    "---\n",
    "```\n",
    "\n",
    "This simulation assumes a purely induced response with no additional information provided about the direction of magnetization.\n",
    "\n",
    "\n",
    "\n",
    "```{figure} ./images/magnetics/MAG_data.png\n",
    "---\n",
    "scale: 50%\n",
    "name: mag_data\n",
    "---\n",
    "Residual magnetic intensity (RMI) data measured over the zone of interest.\n",
    "```\n",
    "\n",
    "We can notice a strong correlation between the RMI data and the horizontal position of the ore body.\n",
    "\n",
    "<p style=\"page-break-after:always;\"></p>"
   ]
  },
  {
   "cell_type": "markdown",
   "id": "3846ec0e",
   "metadata": {},
   "source": [
    "## Mesh creation\n",
    "\n",
    "In preparation for the the inversion, we can create an optimal octree mesh for this survey. For potential fields data, only the discretization below ground matters as air cells are ignored in the calculations. [Figure X]() shows the parameters used in this case.\n",
    "\n",
    "```{figure} ./images/magnetics/mesh_core.png\n",
    "---\n",
    "scale: 50%\n",
    "name: mag_data\n",
    "---\n",
    "Residual magnetic intensity (RMI) data measured over the zone of interest.\n",
    "```\n",
    "\n",
    "For the refinement, ...\n",
    "\n",
    "\n",
    "```{figure} ./images/magnetics/mesh_refinement.png\n",
    "---\n",
    "scale: 50%\n",
    "name: mag_data\n",
    "---\n",
    "Residual magnetic intensity (RMI) data measured over the zone of interest.\n",
    "```\n",
    "\n",
    "\n",
    "See [Mesh creation](../inversion/mesh_design.ipynb) section for general details on the parameters.\n"
   ]
  },
  {
   "cell_type": "markdown",
   "id": "93e9f2f4",
   "metadata": {},
   "source": [
    "## Scalar inversion (susceptibility)\n",
    "\n",
    "The airborne magnetic data were inverted over a range of uncertainties in order to achieve an adequate data fit. Following the smooth solution, a series of IRLS iterations were performed to recover an alternate, more compact model. The following figure shows sections through the recovered models and compares the observed and predicted data.\n",
    "\n",
    "\n",
    "```{figure} ./images/mag_model_TOP.png\n",
    "---\n",
    "height: 400px\n",
    "\n",
    "name: mag_model_TOP\n",
    "---\n",
    "(Top) (left) Observed and (right) predicted data after convergence of the L2 (smooth) solution. Most of the data is well recovered.\n",
    "\n",
    "(Bottom) Horizontal slice at 255 m elevation for (left) the smooth and (right) compact magnetization models.\n",
    "```\n"
   ]
  },
  {
   "cell_type": "markdown",
   "id": "e3da2e13",
   "metadata": {},
   "source": [
    "## Magnetic vector inversion (MVI)\n",
    "\n",
    "The airborne magnetic data were inverted over a range of uncertainties in order to achieve an adequate data fit. Following the smooth solution, a series of IRLS iterations were performed to recover an alternate, more compact model. The following figure shows sections through the recovered models and compares the observed and predicted data.\n",
    "\n",
    "\n",
    "```{figure} ./images/mag_model_TOP.png\n",
    "---\n",
    "height: 400px\n",
    "name: mag_model_TOP\n",
    "---\n",
    "(Top) (left) Observed and (right) predicted data after convergence of the L2 (smooth) solution. Most of the data is well recovered.\n",
    "\n",
    "(Bottom) Horizontal slice at 255 m elevation for (left) the smooth and (right) compact magnetization models.\n",
    "```\n",
    "\n",
    "\n",
    "[Add more here]\n",
    "\n",
    "\n",
    "<p style=\"page-break-after:always;\"></p>"
   ]
  },
  {
   "cell_type": "markdown",
   "id": "ea2f29bd",
   "metadata": {},
   "source": [
    "## Compact models\n",
    "\n",
    "\n"
   ]
  }
 ],
 "metadata": {
  "kernelspec": {
   "display_name": "Python 3 (ipykernel)",
   "language": "python",
   "name": "python3"
  }
 },
 "nbformat": 4,
 "nbformat_minor": 5
}
