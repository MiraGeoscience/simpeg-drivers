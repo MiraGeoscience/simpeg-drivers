{
 "cells": [
  {
   "cell_type": "markdown",
   "id": "ec2c4bb1",
   "metadata": {},
   "source": [
    "<p style=\"page-break-after:always;\"></p>\n",
    "\n",
    "# Case Studies\n",
    "\n",
    "This chapter demonstrates the use of SimPEG on real datasets.\n",
    "\n",
    "- [Forrestania (Joint Grav/Mag/EM)](Forrestania/forrestania.ipynb)"
   ]
  }
 ],
 "metadata": {
  "kernelspec": {
   "display_name": "Python 3 (ipykernel)",
   "language": "python",
   "name": "python3"
  },
  "language_info": {
   "codemirror_mode": {
    "name": "ipython",
    "version": 3
   },
   "file_extension": ".py",
   "mimetype": "text/x-python",
   "name": "python",
   "nbconvert_exporter": "python",
   "pygments_lexer": "ipython3",
   "version": "3.10.17"
  }
 },
 "nbformat": 4,
 "nbformat_minor": 5
}
