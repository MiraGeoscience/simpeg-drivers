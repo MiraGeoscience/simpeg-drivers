{
 "cells": [
  {
   "cell_type": "markdown",
   "id": "34c04eea-4ec5-468f-90aa-0f4bea2b44f3",
   "metadata": {},
   "source": [
    "# Forrestania: Gravity & Magnetics (Pure Python)\n",
    "\n",
    "```{figure} ./images/landing.png\n",
    "---\n",
    "scale: 30%\n",
    "align: right\n",
    "---\n",
    "```\n",
    "\n",
    "This case study focuses on the standalone and joint inversion of airborne magnetic data and synthetic gravity data. The magnetic data were downloaded from the [Geoscience Australia GADDS Portal](https://portal.ga.gov.au/persona/gadds), while the gravity data were generated via forward modelling specifically for this exercise based on a derived iso-shell from magnetic inversion results. We cover the following steps:\n",
    "\n",
    "- [Data imports and pre-processing](forrestania-data)\n",
    "- [Standalone inversion of gravity data](forrestania-gravity)\n",
    "- [Standalone inversion of magnetic data](forrestania-magnetics)\n",
    "- [Joint cross-gradient inversion](forrestania-joint)\n",
    "- [K-means clustering analysis](forrestania-kmeans)"
   ]
  },
  {
   "cell_type": "code",
   "execution_count": null,
   "id": "dcbc3883-3166-46bf-8ac8-40b5766cc030",
   "metadata": {},
   "outputs": [],
   "source": [
    "# Import necessary Python libraries for data handling and visualisation\n",
    "import os\n",
    "import zipfile\n",
    "from pathlib import Path\n",
    "from tempfile import mkdtemp\n",
    "\n",
    "import discretize\n",
    "import matplotlib.pyplot as plt\n",
    "import numpy as np\n",
    "import pandas\n",
    "import scipy as sp\n",
    "\n",
    "# Import SimPEG library\n",
    "import simpeg\n",
    "from geoh5py import Workspace, objects\n",
    "from PIL import Image\n",
    "\n",
    "# Mira Geoscience specific libraries\n",
    "from simpeg_drivers import assets_path"
   ]
  },
  {
   "cell_type": "markdown",
   "id": "4638415a-bea8-4c31-b467-79cb864aeba9",
   "metadata": {},
   "source": [
    "## Geological setting\n",
    "\n",
    "The Forrestania Greenstone Belt, located in the Youanmi Terrane of the Eastern Yilgarn Craton, hosts significant Ni-Cu-PGE mineralisation, primarily within komatiitic units (Frost, 2003; Collins et al., 2012). The belt is structurally complex, featuring synclines, faults, and shear zones that play a key role in sulphide localisation. It is bounded by granitic and gneissic basement, intruded by monzogranite and granodiorite, and transected by Proterozoic dolerite dykes (Perring et al., 1995). Multiple deformation events have remobilised nickel sulphides from their original host rocks into footwall sediments and granitic intrusions, resulting in both typical and atypical mineralisation styles, including granite-hosted sulphides (Collins et al., 2012).\n",
    "\n",
    "The study area is underlain mainly by granitic rocks, forming the basement to the Parker-Range–Hatters Hill greenstone belt immediately to the east. This N–S-trending belt is the main regional host of nickel sulphide deposits, which occur within narrow ultramafic units in an Archaean sequence of metabasalts and sulphidic sediments. Notable nearby deposits include Beautiful Sunday, Flying Fox, and New Morning.\n",
    "\n",
    "A prominent high-magnetic anomaly, trending E–W to ENE–WSW, lies immediately west of the greenstone belt. The anomaly’s orientation, strength, and coincident elevated nickel-in-soil geochemistry suggest it may represent a mafic intrusion—making it a key target for the current geophysical inversion."
   ]
  },
  {
   "cell_type": "markdown",
   "id": "7463eea7-04b6-466a-aa35-58269605c353",
   "metadata": {},
   "source": [
    "(forrestania-data-os)=\n",
    "## Data Preparation\n",
    "\n",
    "This step involves importing and formatting the necessary datasets for inversion using Mira Geoscience's libraries. For your own inversion projects, you may streamline the data preparation process by using standard Python libraries, depending on your specific needs.\n",
    "\n",
    "### Download and unzip the dataset\n",
    "\n",
    "We first need to unzip the package and import the data into a usable format.\n",
    "\n",
    "The zipped package contains the following three files:\n",
    " - Airborne magnetic survey: `60472_AOI4.csv`\n",
    " - Ground gravity survey: `Forrestania_Gravity_Station_trim_.csv`\n",
    " - Digital Elevation Model (DEM): `Forrestania_SRTM1 Australia_MGA50.tiff`"
   ]
  },
  {
   "cell_type": "code",
   "execution_count": null,
   "id": "f2e41088-e8ae-4507-a4be-b449b9abbdbc",
   "metadata": {},
   "outputs": [],
   "source": [
    "# Create a temporary directory for extracting the zip contents\n",
    "temp_dir = Path(mkdtemp())\n",
    "\n",
    "# Use the `assets_path()` from Mira Geoscience's simpeg_drivers to download and locate the Forrestania dataset\n",
    "# This gives us the full path to the zip file we want to extract\n",
    "file = assets_path() / r\"Case studies/Forrestania_SRTM1 Australia_MGA50_CSV.zip\"\n",
    "\n",
    "# Print the resolved path to confirm where the file is located on disk\n",
    "print(f\"Dataset path: {file}\")\n",
    "\n",
    "# Extract all contents of the zip file into the temporary directory\n",
    "with zipfile.ZipFile(file, \"r\") as zf:\n",
    "    zf.extractall(temp_dir)\n",
    "\n",
    "# List all the files that were extracted\n",
    "files = list(temp_dir.iterdir())"
   ]
  },
  {
   "cell_type": "markdown",
   "id": "5dc25724",
   "metadata": {},
   "source": [
    "### Load the CSV and geotiff files\n",
    "We will use the `pandas` library to read the CSV files and Mira Geoscience's `geoh5py` library to read the geotiff file. "
   ]
  },
  {
   "cell_type": "code",
   "execution_count": null,
   "id": "aa120922-5c49-4836-99a0-dce07c1bc0b8",
   "metadata": {},
   "outputs": [],
   "source": [
    "grav_survey = pandas.read_csv(next(file for file in files if \"Gravity\" in file.name))"
   ]
  },
  {
   "cell_type": "markdown",
   "id": "064b0497-6e67-43ac-b0c5-ce82d1651b2e",
   "metadata": {},
   "source": [
    "### Processing Elevation Data\n",
    "\n",
    "#### Step 1: Convert the geoImage to a 2D Grid with values\n",
    "\n",
    "We will utilize the functionality made available in the `geoh5py` library to read and convert the geotiff to a gridded DEM with geographic coordinates."
   ]
  },
  {
   "cell_type": "code",
   "execution_count": 1,
   "id": "c6f32387-ee65-4e39-940c-e0577155ca80",
   "metadata": {},
   "outputs": [
    {
     "ename": "NameError",
     "evalue": "name 'Workspace' is not defined",
     "output_type": "error",
     "traceback": [
      "\u001b[1;31m---------------------------------------------------------------------------\u001b[0m",
      "\u001b[1;31mNameError\u001b[0m                                 Traceback (most recent call last)",
      "Cell \u001b[1;32mIn[1], line 2\u001b[0m\n\u001b[0;32m      1\u001b[0m \u001b[38;5;66;03m# Load the elevation GeoTIFF using geoh5py\u001b[39;00m\n\u001b[1;32m----> 2\u001b[0m ws \u001b[38;5;241m=\u001b[39m \u001b[43mWorkspace\u001b[49m()\n\u001b[0;32m      3\u001b[0m geotiff \u001b[38;5;241m=\u001b[39m objects\u001b[38;5;241m.\u001b[39mGeoImage\u001b[38;5;241m.\u001b[39mcreate(\n\u001b[0;32m      4\u001b[0m     ws, image\u001b[38;5;241m=\u001b[39m\u001b[38;5;28mstr\u001b[39m(\u001b[38;5;28mnext\u001b[39m(file \u001b[38;5;28;01mfor\u001b[39;00m file \u001b[38;5;129;01min\u001b[39;00m files \u001b[38;5;28;01mif\u001b[39;00m \u001b[38;5;124m\"\u001b[39m\u001b[38;5;124mSRTM1\u001b[39m\u001b[38;5;124m\"\u001b[39m \u001b[38;5;129;01min\u001b[39;00m file\u001b[38;5;241m.\u001b[39mname))\n\u001b[0;32m      5\u001b[0m )\n\u001b[0;32m      7\u001b[0m \u001b[38;5;66;03m# Register the geospatial reference system from the TIFF metadata using geoh5py\u001b[39;00m\n",
      "\u001b[1;31mNameError\u001b[0m: name 'Workspace' is not defined"
     ]
    }
   ],
   "source": [
    "# Load the elevation GeoTIFF using geoh5py\n",
    "ws = Workspace()\n",
    "geotiff = objects.GeoImage.create(\n",
    "    ws, image=str(next(file for file in files if \"SRTM1\" in file.name))\n",
    ")\n",
    "\n",
    "# Register the geospatial reference system from the TIFF metadata using geoh5py\n",
    "geotiff.georeferencing_from_tiff()\n",
    "\n",
    "# Convert the image into a grid object (2D array of elevations) in geoh5py\n",
    "grid = geotiff.to_grid2d()\n",
    "elevations = grid.children[0].values  # Extract elevation values\n",
    "\n",
    "# Visualise the raw elevation data (some values may be small placeholders, zeros or NaNs)\n",
    "fig, ax = plt.subplots(figsize=(10, 6))\n",
    "elev_image = elevations.reshape(grid.shape, order=\"F\").T\n",
    "im = ax.imshow(elev_image, cmap=\"terrain\", origin=\"lower\")\n",
    "\n",
    "cbar = plt.colorbar(im, orientation=\"horizontal\", pad=0.1)\n",
    "cbar.set_label(\"Raw Elevation (m)\")\n",
    "\n",
    "ax.set_title(\"Raw Elevation Grid (including placeholders or NaNs)\")\n",
    "ax.set_xlabel(\"Grid X\")\n",
    "ax.set_ylabel(\"Grid Y\")\n",
    "plt.tight_layout()\n",
    "plt.show()"
   ]
  },
  {
   "cell_type": "markdown",
   "id": "259fa2da-421a-456c-ae25-6f54f8154a26",
   "metadata": {},
   "source": [
    "#### Clean Up Invalid Elevation Values\n",
    "We also need to remove the zeros from the rotated DEM."
   ]
  },
  {
   "cell_type": "code",
   "execution_count": null,
   "id": "b1cd89f2-4130-4c90-a175-7f2c64b2b4c2",
   "metadata": {},
   "outputs": [],
   "source": [
    "# Check minimum elevation value\n",
    "print(f\"Minimum elevation value: {np.nanmin(elevations)}\")"
   ]
  },
  {
   "cell_type": "code",
   "execution_count": null,
   "id": "c6c073a4-d83a-4aa2-8356-20e0d74f9cb4",
   "metadata": {},
   "outputs": [],
   "source": [
    "# Some elevation values are tiny placeholders for \"no data\", replace with NaN\n",
    "logic = np.abs(elevations) < 2e-38\n",
    "elevations = np.where(logic, np.nan, elevations)\n",
    "\n",
    "# Plot cleaned-up elevation map\n",
    "fig, ax = plt.subplots(figsize=(10, 6))\n",
    "cleaned_elev_image = elevations.reshape(grid.shape, order=\"F\").T\n",
    "im = ax.imshow(cleaned_elev_image, cmap=\"terrain\", origin=\"lower\")\n",
    "\n",
    "cbar = plt.colorbar(im, orientation=\"horizontal\", pad=0.1)\n",
    "cbar.set_label(\"Cleaned Elevation (m)\")\n",
    "\n",
    "ax.set_title(\"Cleaned Elevation Grid (NaNs filtered)\")\n",
    "ax.set_xlabel(\"Grid X\")\n",
    "ax.set_ylabel(\"Grid Y\")\n",
    "plt.tight_layout()\n",
    "plt.show()"
   ]
  },
  {
   "cell_type": "code",
   "execution_count": null,
   "id": "7e59616c-9998-44d7-9fff-618cf9e92d6a",
   "metadata": {},
   "outputs": [],
   "source": [
    "# Our final DEM DEM array: [X, Y, Elevation]\n",
    "dem = np.c_[grid.centroids[:, :2], elevations]"
   ]
  },
  {
   "cell_type": "markdown",
   "id": "378442be-d578-4384-8e40-9695fb1c2f71",
   "metadata": {},
   "source": [
    "### Magnetic Data Processing\n",
    "\n",
    "#### Step 1: Extract the magnetic data and format"
   ]
  },
  {
   "cell_type": "code",
   "execution_count": null,
   "id": "4cbf5e6c-32aa-42fa-983a-863d343a6a5b",
   "metadata": {},
   "outputs": [],
   "source": [
    "# Load magnetic and gravity CSVs with pandas\n",
    "mag_dataframe = pandas.read_csv(next(file for file in files if \"AOI4\" in file.name))\n",
    "\n",
    "# Preview the dataset\n",
    "print(\"Magnetic survey data preview:\")\n",
    "mag_dataframe"
   ]
  },
  {
   "cell_type": "markdown",
   "id": "2675ab3f-4126-42dd-8860-7acec8dc7a78",
   "metadata": {},
   "source": [
    "#### Step 2: Attach elevation to the airborne magnetic data\n",
    "\n",
    "There are a lot more information that we need from the original CSV, but also some that are missing.\n",
    "Absolute elevations for this survey are currently not available, only the height above the DEM. So we will need to extract it from the grid.\n",
    "The fastest interpolation is a nearest neighbour."
   ]
  },
  {
   "cell_type": "code",
   "execution_count": null,
   "id": "22f048cf-2f8e-48b0-b45a-83910a06cf37",
   "metadata": {},
   "outputs": [],
   "source": [
    "# Extract relevant columns: projected easting (X), northing (Y), and radar altimeter (height above terrain)\n",
    "mag_locs = mag_dataframe[[\"X_MGA50\", \"Y_MGA50\", \"RADALT\"]].to_numpy()\n",
    "\n",
    "# Build a KDTree for fast spatial search on the DEM 2D coordinates\n",
    "tree = sp.spatial.cKDTree(dem[:, :2])  # Only XY from DEM\n",
    "_, ind = tree.query(mag_locs[:, :2])  # Nearest neighbour indices from DEM\n",
    "\n",
    "# Add DEM ground elevation to RADALT to get true elevation\n",
    "mag_locs[:, 2] += dem[ind, 2]\n",
    "\n",
    "# Check elevation range\n",
    "print(f\"Maximum interpolated elevation: {np.nanmax(mag_locs[:, 2])}\")"
   ]
  },
  {
   "cell_type": "code",
   "execution_count": null,
   "id": "8cd25184-6781-4baa-ae2b-e08126359f5f",
   "metadata": {},
   "outputs": [],
   "source": [
    "# Plot the survey points coloured by interpolated elevation\n",
    "fig, ax = plt.subplots(figsize=(10, 6))\n",
    "sc = ax.scatter(\n",
    "    mag_locs[:, 0],\n",
    "    mag_locs[:, 1],  # X and Y coordinates\n",
    "    c=mag_locs[:, 2],  # Color is based on elevation\n",
    "    marker=\"o\",  # Circle markers\n",
    "    cmap=\"terrain\",\n",
    "    s=4,  # Size of points slightly larger for visibility\n",
    "    edgecolors=\"none\",\n",
    ")\n",
    "\n",
    "cbar = plt.colorbar(sc, orientation=\"horizontal\", pad=0.1)\n",
    "cbar.set_label(\"Interpolated Elevation (m)\")\n",
    "\n",
    "ax.set_aspect(\"equal\")\n",
    "ax.set_title(\"Magnetic Flight Path with Interpolated Elevation\")\n",
    "ax.set_xlabel(\"Easting (MGA50)\")\n",
    "ax.set_ylabel(\"Northing (MGA50)\")\n",
    "plt.tight_layout()\n",
    "plt.show()"
   ]
  },
  {
   "cell_type": "markdown",
   "id": "c6178d2e-2b61-4bf7-8673-dc92738b5674",
   "metadata": {},
   "source": [
    "#### Step 3: Compute residual data\n",
    "\n",
    "The source of the magnetic signal can generally be attributed to the presence or destruction of magnetic minerals in rocks (mainly magnetite). Magnetometers measure the Total Magnetic Intensity (TMI), which includes both the primary (source) field and secondary fields (signal) from the local geology. \n",
    "\n",
    "The inversion routine requires Residual Magnetic Intensity (RMI). The first step is to compute and remove the primary field (IGRF) at the time and location of acquisition.  The survey was conducted between February and March 1988.\n",
    "\n",
    "##### Lookup/remove IGRF \n",
    "\n",
    "Information about the inducing field strength at the time and location of the survey can be accessed from the [NOAA site](https://www.ngdc.noaa.gov/geomag/calculators/magcalc.shtml?useFullSite=true#igrfwmm).\n",
    "\n",
    "The **inducing field parameters** calculated at the time and location of the survey are\n",
    "\n",
    "```{figure} ./images/NOAA_IGRF.png\n",
    "---\n",
    "scale: 20%\n",
    "---\n",
    "[Click to enlarge]\n",
    "```\n",
    "\n",
    "- Magnitude: 59294 nT\n",
    "- Inclination: -67.1$\\degree$\n",
    "- Declination: -0.89$\\degree$  "
   ]
  },
  {
   "cell_type": "code",
   "execution_count": null,
   "id": "026be717-7bf5-40b0-8f76-7c07cce49b35",
   "metadata": {},
   "outputs": [],
   "source": [
    "# Reduce the data by the inducing field strength\n",
    "mag_data = mag_dataframe[\"MAGCOMP\"] - 59294\n",
    "fig, ax = plt.subplots()\n",
    "im = plt.hist(mag_data, bins=100)\n",
    "ax.set_aspect(1)\n",
    "print(f\"Median: {mag_data.median()} nT\")"
   ]
  },
  {
   "cell_type": "markdown",
   "id": "dfb824dd-4cc1-468d-9e57-0cfdcdddb712",
   "metadata": {},
   "source": [
    "#### Step 4: Detrend\n",
    "The local background field appears to be slightly lower (~283 nT) than the computed IGRF model, as most of the data away from the main anomaly are below 0. To avoid modelling this background trend, we can remove the median value. "
   ]
  },
  {
   "cell_type": "code",
   "execution_count": null,
   "id": "f6db14f8-b29f-4d11-953a-430b80cfc22e",
   "metadata": {},
   "outputs": [],
   "source": [
    "mag_data -= mag_data.median()\n",
    "\n",
    "fig, ax = plt.subplots()\n",
    "im = plt.hist(mag_data, bins=100)\n",
    "ax.set_aspect(1)\n",
    "print(f\"Median: {mag_data.median()} nT\")"
   ]
  },
  {
   "cell_type": "markdown",
   "id": "75825d5a-d08f-469f-b01b-eb851aebfba6",
   "metadata": {},
   "source": [
    "#### Step 5: Downsampling\n",
    "\n",
    "We can downsample the data along lines to reduce the computation cost of the inversion. Since the average flight height of this survey was 60 m, we can confidently downsample the lines by the same amount without affecting the wavelengths contained in the data.\n",
    "\n",
    "We can do this fairly efficiently by sampling the data over a regular grid."
   ]
  },
  {
   "cell_type": "code",
   "execution_count": null,
   "id": "b4996f62-2ee1-4c19-b57d-5b54f1c69d6b",
   "metadata": {},
   "outputs": [],
   "source": [
    "x_grid, y_grid = np.meshgrid(\n",
    "    np.arange(mag_locs[:, 0].min(), mag_locs[:, 0].max(), 60),\n",
    "    np.arange(mag_locs[:, 1].min(), mag_locs[:, 1].max(), 60),\n",
    ")\n",
    "\n",
    "# Generate a KDTree from the survey\n",
    "tree = sp.spatial.cKDTree(mag_locs[:, :2])\n",
    "\n",
    "# Find the nearest indices for each grid points\n",
    "_, ind = tree.query(np.c_[x_grid.flatten(), y_grid.flatten()])\n",
    "\n",
    "mag_survey = np.c_[mag_locs, mag_data][ind, :]\n",
    "print(mag_survey.shape)"
   ]
  },
  {
   "cell_type": "code",
   "execution_count": null,
   "id": "2690fe89-6802-4b45-80eb-ab46db97a49d",
   "metadata": {},
   "outputs": [],
   "source": [
    "# Plot the survey points coloured by interpolated elevation\n",
    "fig, ax = plt.subplots(figsize=(10, 6))\n",
    "sc = ax.scatter(\n",
    "    mag_survey[:, 0],\n",
    "    mag_survey[:, 1],  # X and Y coordinates\n",
    "    c=mag_survey[:, -1],  # Color is based on elevation\n",
    "    marker=\"o\",  # Circle markers\n",
    "    cmap=\"rainbow\",\n",
    "    s=10,  # Size of points slightly larger for visibility\n",
    "    edgecolors=\"none\",\n",
    ")\n",
    "\n",
    "cbar = plt.colorbar(sc, orientation=\"horizontal\", pad=0.1)\n",
    "cbar.set_label(\"Magnetic data (nT)\")\n",
    "\n",
    "ax.set_aspect(\"equal\")\n",
    "ax.set_title(\"Residual (detrended) data downsampled at 60 m\")\n",
    "ax.set_xlabel(\"Easting (MGA50)\")\n",
    "ax.set_ylabel(\"Northing (MGA50)\")\n",
    "plt.tight_layout()\n",
    "plt.show()"
   ]
  },
  {
   "cell_type": "markdown",
   "id": "dd15a36f",
   "metadata": {},
   "source": [
    "(forrestania-gravity-os)=\n",
    "## Gravity data processing\n",
    "\n",
    "The last dataset to format is the gravity survey. In this case, the survey is already located at the surface, and the data is already provided as terrain corrected (2.67 g/cc) in mGal. No extra transformation is required. "
   ]
  },
  {
   "cell_type": "code",
   "execution_count": null,
   "id": "0e58daf4-952a-4b2e-ab0c-85adaec56f08",
   "metadata": {},
   "outputs": [],
   "source": [
    "# Read the two CSVs with pandas\n",
    "grav_dataframe = pandas.read_csv(next(file for file in files if \"Gravity\" in file.name))\n",
    "grav_dataframe"
   ]
  },
  {
   "cell_type": "code",
   "execution_count": null,
   "id": "f54ad5c4-433d-4c0e-a61b-098c8e0ace75",
   "metadata": {},
   "outputs": [],
   "source": [
    "grav_survey = grav_dataframe.to_numpy()\n",
    "\n",
    "\n",
    "fig, ax = plt.subplots(figsize=(10, 6))\n",
    "sc = ax.scatter(\n",
    "    grav_survey[:, 0],\n",
    "    grav_survey[:, 1],  # X and Y coordinates\n",
    "    c=grav_survey[:, -1],  # Color is based on elevation\n",
    "    marker=\"o\",  # Circle markers\n",
    "    cmap=\"RdBu_r\",\n",
    "    s=10,  # Size of points slightly larger for visibility\n",
    "    edgecolors=\"none\",\n",
    ")\n",
    "\n",
    "cbar = plt.colorbar(sc, orientation=\"horizontal\", pad=0.1)\n",
    "cbar.set_label(\"Gravity data (mGal)\")\n",
    "\n",
    "ax.set_aspect(\"equal\")\n",
    "ax.set_title(\"Terrain corrected (2.67 g/cc) gravity data\")\n",
    "ax.set_xlabel(\"Easting (MGA50)\")\n",
    "ax.set_ylabel(\"Northing (MGA50)\")\n",
    "plt.tight_layout()\n",
    "plt.show()"
   ]
  },
  {
   "cell_type": "markdown",
   "id": "522c0bb5-ecbc-4585-b830-c9cf57724582",
   "metadata": {},
   "source": [
    "## Inversion\n",
    "\n",
    "### Gravity\n",
    "\n",
    "We begin our analysis with the ground gravity survey. We will attempt to estimate the shape and depth of the causative body at depth.\n",
    "\n",
    "#### Create a mesh \n",
    "\n",
    "To be continued"
   ]
  },
  {
   "cell_type": "markdown",
   "id": "20c39e9c-c7a5-4610-9c60-cac1e955fb19",
   "metadata": {},
   "source": [
    "(forrestania-magnetics-os)=\n",
    "### Magnetics\n",
    "\n",
    "We follow up with the processing of the airborne magnetic data.\n"
   ]
  },
  {
   "cell_type": "markdown",
   "id": "bfabe262-1769-450a-bd8d-4a48de0ea408",
   "metadata": {},
   "source": [
    "(forrestania-joint-os)=\n",
    "### Joint cross-gradient\n",
    "\n",
    "\n",
    "This table summarizes the different units based on their mean density and susceptibility values. \n",
    "\n",
    "```{table} Summary of expected physical properties\n",
    "| Unit | Susceptibility | Density |\n",
    "| :--- | :--- | :---- |\n",
    "| background |  low    | low      |\n",
    "| A |  high    | high      |\n",
    "| B |  low    | high      |\n",
    "| C |  high | low |\n",
    "```"
   ]
  },
  {
   "cell_type": "markdown",
   "id": "5d4d7ea6-cfc7-4e4a-9eb5-4125cc972250",
   "metadata": {},
   "source": [
    "## Summary\n",
    "\n",
    "- We have inverted publicly available data over the Forrestania geological province.\n",
    "\n",
    "- The joint cross-gradient method was successfull in promoting similarities between the different physical properties wherever possible.\n",
    "\n",
    "- Our results suggest the presence of different geological units with distinct density and magnetic susceptibility signatures.\n"
   ]
  }
 ],
 "metadata": {
  "kernelspec": {
   "display_name": "Python 3 (ipykernel)",
   "language": "python",
   "name": "python3"
  },
  "language_info": {
   "codemirror_mode": {
    "name": "ipython",
    "version": 3
   },
   "file_extension": ".py",
   "mimetype": "text/x-python",
   "name": "python",
   "nbconvert_exporter": "python",
   "pygments_lexer": "ipython3",
   "version": "3.10.17"
  }
 },
 "nbformat": 4,
 "nbformat_minor": 5
}
