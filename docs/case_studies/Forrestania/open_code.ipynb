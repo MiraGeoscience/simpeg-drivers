{
 "cells": [
  {
   "cell_type": "markdown",
   "id": "34c04eea-4ec5-468f-90aa-0f4bea2b44f3",
   "metadata": {},
   "source": [
    "# Open-source code\n",
    "\n",
    "```{figure} ./images/open_code.png\n",
    "---\n",
    "scale: 30%\n",
    "align: right\n",
    "---\n",
    "```\n",
    "\n",
    "This section demonstrates the processing and inversion of the Forrestania datasets using purely open-source packages. For an equivalent and streamlined version, see the parent [Forrestania case study](forrestania).\n",
    "\n",
    "- [Gravity inversion](gravity-code)\n",
    "- [Magnetics inversion](magnetics-code)\n",
    "- [Joint inversion](joint-grav-mag-code)\n",
    "\n",
    "```{note}\n",
    "The steps taken in this tutorial are strongly based on the official [SimPEG Tutorials](https://simpeg.xyz/user-tutorials/).\n",
    "```"
   ]
  }
 ],
 "metadata": {
  "kernelspec": {
   "display_name": "Python 3 (ipykernel)",
   "language": "python",
   "name": "python3"
  },
  "language_info": {
   "codemirror_mode": {
    "name": "ipython",
    "version": 3
   },
   "file_extension": ".py",
   "mimetype": "text/x-python",
   "name": "python",
   "nbconvert_exporter": "python",
   "pygments_lexer": "ipython3",
   "version": "3.10.17"
  }
 },
 "nbformat": 4,
 "nbformat_minor": 5
}
